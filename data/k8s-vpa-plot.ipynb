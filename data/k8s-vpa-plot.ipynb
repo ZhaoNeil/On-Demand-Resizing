{
 "cells": [
  {
   "cell_type": "code",
   "execution_count": 119,
   "id": "39aff21d",
   "metadata": {},
   "outputs": [],
   "source": [
    "import pymongo\n",
    "import math\n",
    "import numpy as np\n",
    "import pandas as pd\n",
    "import matplotlib.pyplot as plt\n",
    "from datetime import datetime\n",
    "import matplotlib.dates as mdates\n",
    "from kubernetes import client,config,watch"
   ]
  },
  {
   "cell_type": "code",
   "execution_count": 120,
   "id": "3694b2c3",
   "metadata": {},
   "outputs": [],
   "source": [
    "mongoclient = pymongo.MongoClient(\"mongodb://localhost:27017/\")\n",
    "db = mongoclient['resource']"
   ]
  },
  {
   "cell_type": "code",
   "execution_count": 121,
   "id": "8a87bbc3",
   "metadata": {},
   "outputs": [
    {
     "data": {
      "text/plain": [
       "['usage', 'requests']"
      ]
     },
     "execution_count": 121,
     "metadata": {},
     "output_type": "execute_result"
    }
   ],
   "source": [
    "collist = db.list_collection_names()\n",
    "collist"
   ]
  },
  {
   "cell_type": "code",
   "execution_count": 122,
   "id": "e9f6d66e",
   "metadata": {},
   "outputs": [],
   "source": [
    "# convert cpu unit 'n' to 'm'\n",
    "def convert_cpu(x):\n",
    "    if x != 0:\n",
    "        if x[-1] == 'n':\n",
    "            return round(int(x[:-1])/1000000)\n",
    "        elif x[-1] == 'm':\n",
    "            return int(x[:-1])\n",
    "    else:\n",
    "        return 0\n",
    "    \n",
    "# convert memory unit 'k' and 'Ki' to 'Mi'\n",
    "# 1k = 1000/1024 Ki = 1000/1024**2 Mi\n",
    "def convert_mem(x):\n",
    "    if x != 0:\n",
    "        if x[-1] == 'k':\n",
    "            return round(int(x[:-1])*1000/1024**2)\n",
    "        elif x[-2:] == 'Ki':\n",
    "            return round(int(x[:-2])/1024)\n",
    "        elif x[-2:] == 'Mi':\n",
    "            return int(x[:-2])\n",
    "    else:\n",
    "        return 0"
   ]
  },
  {
   "cell_type": "code",
   "execution_count": 133,
   "id": "78dc2894",
   "metadata": {
    "scrolled": false
   },
   "outputs": [],
   "source": [
    "record = {}\n",
    "for col in collist:\n",
    "    record[col] = pd.DataFrame(list(db[col].find()))\n",
    "    # convert timestamp to time\n",
    "    record[col]['time'] = pd.to_datetime(record[col]['time'],unit='s').round('1s')\n",
    "    record[col]['cpu'] = record[col]['cpu'].apply(lambda x: convert_cpu(x))\n",
    "    record[col]['cpu'] = record[col]['cpu'].fillna(0)\n",
    "    record[col]['memory'] = record[col]['memory'].apply(lambda x: convert_mem(x))\n"
   ]
  },
  {
   "cell_type": "code",
   "execution_count": 144,
   "id": "aa310770",
   "metadata": {},
   "outputs": [
    {
     "data": {
      "text/html": [
       "<div>\n",
       "<style scoped>\n",
       "    .dataframe tbody tr th:only-of-type {\n",
       "        vertical-align: middle;\n",
       "    }\n",
       "\n",
       "    .dataframe tbody tr th {\n",
       "        vertical-align: top;\n",
       "    }\n",
       "\n",
       "    .dataframe thead th {\n",
       "        text-align: right;\n",
       "    }\n",
       "</style>\n",
       "<table border=\"1\" class=\"dataframe\">\n",
       "  <thead>\n",
       "    <tr style=\"text-align: right;\">\n",
       "      <th></th>\n",
       "      <th>_id</th>\n",
       "      <th>time</th>\n",
       "      <th>cpu</th>\n",
       "      <th>memory</th>\n",
       "      <th>pod_name</th>\n",
       "    </tr>\n",
       "  </thead>\n",
       "  <tbody>\n",
       "    <tr>\n",
       "      <th>0</th>\n",
       "      <td>60a112f688a2a0ed6c9c61e2</td>\n",
       "      <td>2021-05-16 12:41:27</td>\n",
       "      <td>0.0</td>\n",
       "      <td>2</td>\n",
       "      <td>my-auto-deployment-9bf598bdb-qrjx4</td>\n",
       "    </tr>\n",
       "    <tr>\n",
       "      <th>1</th>\n",
       "      <td>60a112f688a2a0ed6c9c61e3</td>\n",
       "      <td>2021-05-16 12:41:27</td>\n",
       "      <td>0.0</td>\n",
       "      <td>2</td>\n",
       "      <td>my-auto-deployment-9bf598bdb-z9l8m</td>\n",
       "    </tr>\n",
       "    <tr>\n",
       "      <th>2</th>\n",
       "      <td>60a112f888a2a0ed6c9c61e7</td>\n",
       "      <td>2021-05-16 12:41:28</td>\n",
       "      <td>0.0</td>\n",
       "      <td>2</td>\n",
       "      <td>my-auto-deployment-9bf598bdb-qrjx4</td>\n",
       "    </tr>\n",
       "    <tr>\n",
       "      <th>3</th>\n",
       "      <td>60a112f888a2a0ed6c9c61e8</td>\n",
       "      <td>2021-05-16 12:41:28</td>\n",
       "      <td>0.0</td>\n",
       "      <td>2</td>\n",
       "      <td>my-auto-deployment-9bf598bdb-z9l8m</td>\n",
       "    </tr>\n",
       "    <tr>\n",
       "      <th>4</th>\n",
       "      <td>60a112f988a2a0ed6c9c61ec</td>\n",
       "      <td>2021-05-16 12:41:29</td>\n",
       "      <td>0.0</td>\n",
       "      <td>2</td>\n",
       "      <td>my-auto-deployment-9bf598bdb-qrjx4</td>\n",
       "    </tr>\n",
       "    <tr>\n",
       "      <th>...</th>\n",
       "      <td>...</td>\n",
       "      <td>...</td>\n",
       "      <td>...</td>\n",
       "      <td>...</td>\n",
       "      <td>...</td>\n",
       "    </tr>\n",
       "    <tr>\n",
       "      <th>1238</th>\n",
       "      <td>60a1155888a2a0ed6c9c6bac</td>\n",
       "      <td>2021-05-16 12:51:36</td>\n",
       "      <td>491.0</td>\n",
       "      <td>3</td>\n",
       "      <td>my-auto-deployment-9bf598bdb-stq5n</td>\n",
       "    </tr>\n",
       "    <tr>\n",
       "      <th>1239</th>\n",
       "      <td>60a1155988a2a0ed6c9c6baf</td>\n",
       "      <td>2021-05-16 12:51:37</td>\n",
       "      <td>488.0</td>\n",
       "      <td>3</td>\n",
       "      <td>my-auto-deployment-9bf598bdb-q486j</td>\n",
       "    </tr>\n",
       "    <tr>\n",
       "      <th>1240</th>\n",
       "      <td>60a1155988a2a0ed6c9c6bb0</td>\n",
       "      <td>2021-05-16 12:51:37</td>\n",
       "      <td>491.0</td>\n",
       "      <td>3</td>\n",
       "      <td>my-auto-deployment-9bf598bdb-stq5n</td>\n",
       "    </tr>\n",
       "    <tr>\n",
       "      <th>1241</th>\n",
       "      <td>60a1155a88a2a0ed6c9c6bb3</td>\n",
       "      <td>2021-05-16 12:51:38</td>\n",
       "      <td>488.0</td>\n",
       "      <td>3</td>\n",
       "      <td>my-auto-deployment-9bf598bdb-q486j</td>\n",
       "    </tr>\n",
       "    <tr>\n",
       "      <th>1242</th>\n",
       "      <td>60a1155a88a2a0ed6c9c6bb4</td>\n",
       "      <td>2021-05-16 12:51:38</td>\n",
       "      <td>491.0</td>\n",
       "      <td>3</td>\n",
       "      <td>my-auto-deployment-9bf598bdb-stq5n</td>\n",
       "    </tr>\n",
       "  </tbody>\n",
       "</table>\n",
       "<p>1243 rows × 5 columns</p>\n",
       "</div>"
      ],
      "text/plain": [
       "                           _id                time    cpu  memory  \\\n",
       "0     60a112f688a2a0ed6c9c61e2 2021-05-16 12:41:27    0.0       2   \n",
       "1     60a112f688a2a0ed6c9c61e3 2021-05-16 12:41:27    0.0       2   \n",
       "2     60a112f888a2a0ed6c9c61e7 2021-05-16 12:41:28    0.0       2   \n",
       "3     60a112f888a2a0ed6c9c61e8 2021-05-16 12:41:28    0.0       2   \n",
       "4     60a112f988a2a0ed6c9c61ec 2021-05-16 12:41:29    0.0       2   \n",
       "...                        ...                 ...    ...     ...   \n",
       "1238  60a1155888a2a0ed6c9c6bac 2021-05-16 12:51:36  491.0       3   \n",
       "1239  60a1155988a2a0ed6c9c6baf 2021-05-16 12:51:37  488.0       3   \n",
       "1240  60a1155988a2a0ed6c9c6bb0 2021-05-16 12:51:37  491.0       3   \n",
       "1241  60a1155a88a2a0ed6c9c6bb3 2021-05-16 12:51:38  488.0       3   \n",
       "1242  60a1155a88a2a0ed6c9c6bb4 2021-05-16 12:51:38  491.0       3   \n",
       "\n",
       "                                pod_name  \n",
       "0     my-auto-deployment-9bf598bdb-qrjx4  \n",
       "1     my-auto-deployment-9bf598bdb-z9l8m  \n",
       "2     my-auto-deployment-9bf598bdb-qrjx4  \n",
       "3     my-auto-deployment-9bf598bdb-z9l8m  \n",
       "4     my-auto-deployment-9bf598bdb-qrjx4  \n",
       "...                                  ...  \n",
       "1238  my-auto-deployment-9bf598bdb-stq5n  \n",
       "1239  my-auto-deployment-9bf598bdb-q486j  \n",
       "1240  my-auto-deployment-9bf598bdb-stq5n  \n",
       "1241  my-auto-deployment-9bf598bdb-q486j  \n",
       "1242  my-auto-deployment-9bf598bdb-stq5n  \n",
       "\n",
       "[1243 rows x 5 columns]"
      ]
     },
     "execution_count": 144,
     "metadata": {},
     "output_type": "execute_result"
    }
   ],
   "source": [
    "request = record['requests']\n",
    "usage = record['usage']\n",
    "usage"
   ]
  },
  {
   "cell_type": "code",
   "execution_count": 145,
   "id": "edca83e6",
   "metadata": {},
   "outputs": [],
   "source": [
    "pod_usage = {}\n",
    "for i in usage['pod_name'].unique():\n",
    "    pod_usage[i] = usage[usage['pod_name'] == i]\n",
    "    \n",
    "pod_request = {}\n",
    "for i in request['pod_name'].unique():\n",
    "    pod_request[i] = request[request['pod_name'] == i]"
   ]
  },
  {
   "cell_type": "code",
   "execution_count": 192,
   "id": "50004b47",
   "metadata": {},
   "outputs": [
    {
     "data": {
      "image/png": "[encoded data removed]",
      "text/plain": [
       "<Figure size 936x648 with 2 Axes>"
      ]
     },
     "metadata": {
      "needs_background": "light"
     },
     "output_type": "display_data"
    }
   ],
   "source": [
    "fig, (ax1, ax2) = plt.subplots(2, 1, figsize=(13,9))\n",
    "for i in pod_request:\n",
    "    ax1.scatter(pod_request[i].time, pod_request[i].cpu,marker='.',label=i[-5:]+' request')\n",
    "    ax1.plot(pod_usage[i].time, pod_usage[i].cpu, label=i[-5:] + ' usage')\n",
    "ax1.xaxis.set_major_formatter(mdates.DateFormatter('%Y-%m-%d %H:%M:%S'))\n",
    "ax1.xaxis.set_minor_locator(mdates.MinuteLocator())\n",
    "ax1.set_ylabel('CPU(m)', fontsize=14)\n",
    "ax1.set_xlabel('timeline', fontsize=14)\n",
    "ax1.legend()\n",
    "\n",
    "for i in pod_request:\n",
    "    ax2.scatter(pod_request[i].time, pod_request[i].memory,marker='.',label=i[-5:]+' request')\n",
    "    ax2.plot(pod_usage[i].time, pod_usage[i].memory, label=i[-5:] + ' usage')\n",
    "ax2.xaxis.set_major_formatter(mdates.DateFormatter('%Y-%m-%d %H:%M:%S'))\n",
    "ax2.xaxis.set_minor_locator(mdates.MinuteLocator())\n",
    "ax2.set_ylabel('Memory(Mi)', fontsize=14)\n",
    "ax2.set_xlabel('timeline', fontsize=14)\n",
    "ax2.legend()\n",
    "\n",
    "fig.autofmt_xdate() #rotate labels\n",
    "plt.show()"
   ]
  },
  {
   "cell_type": "code",
   "execution_count": null,
   "id": "13d71dba",
   "metadata": {},
   "outputs": [],
   "source": []
  }
 ],
 "metadata": {
  "kernelspec": {
   "display_name": "Python 3",
   "language": "python",
   "name": "python3"
  },
  "language_info": {
   "codemirror_mode": {
    "name": "ipython",
    "version": 3
   },
   "file_extension": ".py",
   "mimetype": "text/x-python",
   "name": "python",
   "nbconvert_exporter": "python",
   "pygments_lexer": "ipython3",
   "version": "3.8.5"
  }
 },
 "nbformat": 4,
 "nbformat_minor": 5
}
