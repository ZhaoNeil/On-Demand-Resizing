{
 "cells": [
  {
   "cell_type": "code",
   "execution_count": 218,
   "id": "39aff21d",
   "metadata": {},
   "outputs": [],
   "source": [
    "import pymongo\n",
    "import math\n",
    "import numpy as np\n",
    "import pandas as pd\n",
    "import matplotlib.pyplot as plt\n",
    "from datetime import datetime\n",
    "import matplotlib.dates as mdates\n",
    "from kubernetes import client,config,watch"
   ]
  },
  {
   "cell_type": "code",
   "execution_count": 219,
   "id": "3694b2c3",
   "metadata": {},
   "outputs": [],
   "source": [
    "mongoclient = pymongo.MongoClient(\"mongodb://localhost:27017/\")\n",
    "db = mongoclient['resource']"
   ]
  },
  {
   "cell_type": "code",
   "execution_count": 220,
   "id": "8a87bbc3",
   "metadata": {},
   "outputs": [
    {
     "data": {
      "text/plain": [
       "['usage', 'requests']"
      ]
     },
     "execution_count": 220,
     "metadata": {},
     "output_type": "execute_result"
    }
   ],
   "source": [
    "collist = db.list_collection_names()\n",
    "collist"
   ]
  },
  {
   "cell_type": "code",
   "execution_count": 221,
   "id": "f3c4ce53",
   "metadata": {},
   "outputs": [],
   "source": [
    "# convert cpu unit 'n' to 'm'\n",
    "def convert_cpu(x):\n",
    "    if x != 0:\n",
    "        if x[-1] == 'n':\n",
    "            return round(int(x[:-1])/1000000)\n",
    "        elif x[-1] == 'm':\n",
    "            return int(x[:-1])\n",
    "    else:\n",
    "        return 0\n",
    "    \n",
    "# convert memory unit 'k' and 'Ki' to 'Mi'\n",
    "# 1k = 1000/1024 Ki = 1000/1024**2 Mi\n",
    "def convert_mem(x):\n",
    "    if x != 0:\n",
    "        if x[-1] == 'k':\n",
    "            return round(int(x[:-1])*1000/1024**2)\n",
    "        elif x[-2:] == 'Ki':\n",
    "            return round(int(x[:-2])/1024)\n",
    "        elif x[-2:] == 'Mi':\n",
    "            return int(x[:-2])\n",
    "    else:\n",
    "        return 0"
   ]
  },
  {
   "cell_type": "code",
   "execution_count": 222,
   "id": "78dc2894",
   "metadata": {
    "scrolled": false
   },
   "outputs": [],
   "source": [
    "record = {}\n",
    "for col in collist:\n",
    "    record[col] = pd.DataFrame(list(db[col].find()))\n",
    "    # convert timestamp to time\n",
    "    record[col]['time'] = pd.to_datetime(record[col]['time'],unit='s').round('1s')\n",
    "    record[col]['cpu'] = record[col]['cpu'].apply(lambda x: convert_cpu(x))\n",
    "    record[col]['cpu'] = record[col]['cpu'].fillna(0)\n",
    "    record[col]['memory'] = record[col]['memory'].apply(lambda x: convert_mem(x))\n"
   ]
  },
  {
   "cell_type": "code",
   "execution_count": 223,
   "id": "7c0699a3",
   "metadata": {},
   "outputs": [
    {
     "data": {
      "text/html": [
       "<div>\n",
       "<style scoped>\n",
       "    .dataframe tbody tr th:only-of-type {\n",
       "        vertical-align: middle;\n",
       "    }\n",
       "\n",
       "    .dataframe tbody tr th {\n",
       "        vertical-align: top;\n",
       "    }\n",
       "\n",
       "    .dataframe thead th {\n",
       "        text-align: right;\n",
       "    }\n",
       "</style>\n",
       "<table border=\"1\" class=\"dataframe\">\n",
       "  <thead>\n",
       "    <tr style=\"text-align: right;\">\n",
       "      <th></th>\n",
       "      <th>_id</th>\n",
       "      <th>time</th>\n",
       "      <th>cpu</th>\n",
       "      <th>memory</th>\n",
       "      <th>pod_name</th>\n",
       "    </tr>\n",
       "  </thead>\n",
       "  <tbody>\n",
       "    <tr>\n",
       "      <th>0</th>\n",
       "      <td>60a2781288a2a0ed6c9c8017</td>\n",
       "      <td>2021-05-17 14:05:07</td>\n",
       "      <td>100</td>\n",
       "      <td>50</td>\n",
       "      <td>vpa-589964f979-6mk5t</td>\n",
       "    </tr>\n",
       "    <tr>\n",
       "      <th>1</th>\n",
       "      <td>60a2781288a2a0ed6c9c8018</td>\n",
       "      <td>2021-05-17 14:05:07</td>\n",
       "      <td>100</td>\n",
       "      <td>50</td>\n",
       "      <td>vpa-589964f979-xq625</td>\n",
       "    </tr>\n",
       "    <tr>\n",
       "      <th>2</th>\n",
       "      <td>60a2781388a2a0ed6c9c8019</td>\n",
       "      <td>2021-05-17 14:05:08</td>\n",
       "      <td>100</td>\n",
       "      <td>50</td>\n",
       "      <td>vpa-589964f979-6mk5t</td>\n",
       "    </tr>\n",
       "    <tr>\n",
       "      <th>3</th>\n",
       "      <td>60a2781388a2a0ed6c9c801a</td>\n",
       "      <td>2021-05-17 14:05:08</td>\n",
       "      <td>100</td>\n",
       "      <td>50</td>\n",
       "      <td>vpa-589964f979-xq625</td>\n",
       "    </tr>\n",
       "    <tr>\n",
       "      <th>4</th>\n",
       "      <td>60a2781488a2a0ed6c9c801b</td>\n",
       "      <td>2021-05-17 14:05:09</td>\n",
       "      <td>100</td>\n",
       "      <td>50</td>\n",
       "      <td>vpa-589964f979-6mk5t</td>\n",
       "    </tr>\n",
       "    <tr>\n",
       "      <th>...</th>\n",
       "      <td>...</td>\n",
       "      <td>...</td>\n",
       "      <td>...</td>\n",
       "      <td>...</td>\n",
       "      <td>...</td>\n",
       "    </tr>\n",
       "    <tr>\n",
       "      <th>717</th>\n",
       "      <td>60a2794288a2a0ed6c9c8552</td>\n",
       "      <td>2021-05-17 14:10:10</td>\n",
       "      <td>587</td>\n",
       "      <td>250</td>\n",
       "      <td>vpa-589964f979-dgtwf</td>\n",
       "    </tr>\n",
       "    <tr>\n",
       "      <th>718</th>\n",
       "      <td>60a2794388a2a0ed6c9c8555</td>\n",
       "      <td>2021-05-17 14:10:11</td>\n",
       "      <td>587</td>\n",
       "      <td>250</td>\n",
       "      <td>vpa-589964f979-c4675</td>\n",
       "    </tr>\n",
       "    <tr>\n",
       "      <th>719</th>\n",
       "      <td>60a2794388a2a0ed6c9c8556</td>\n",
       "      <td>2021-05-17 14:10:11</td>\n",
       "      <td>587</td>\n",
       "      <td>250</td>\n",
       "      <td>vpa-589964f979-dgtwf</td>\n",
       "    </tr>\n",
       "    <tr>\n",
       "      <th>720</th>\n",
       "      <td>60a2794488a2a0ed6c9c8559</td>\n",
       "      <td>2021-05-17 14:10:12</td>\n",
       "      <td>587</td>\n",
       "      <td>250</td>\n",
       "      <td>vpa-589964f979-c4675</td>\n",
       "    </tr>\n",
       "    <tr>\n",
       "      <th>721</th>\n",
       "      <td>60a2794488a2a0ed6c9c855a</td>\n",
       "      <td>2021-05-17 14:10:12</td>\n",
       "      <td>587</td>\n",
       "      <td>250</td>\n",
       "      <td>vpa-589964f979-dgtwf</td>\n",
       "    </tr>\n",
       "  </tbody>\n",
       "</table>\n",
       "<p>722 rows × 5 columns</p>\n",
       "</div>"
      ],
      "text/plain": [
       "                          _id                time  cpu  memory  \\\n",
       "0    60a2781288a2a0ed6c9c8017 2021-05-17 14:05:07  100      50   \n",
       "1    60a2781288a2a0ed6c9c8018 2021-05-17 14:05:07  100      50   \n",
       "2    60a2781388a2a0ed6c9c8019 2021-05-17 14:05:08  100      50   \n",
       "3    60a2781388a2a0ed6c9c801a 2021-05-17 14:05:08  100      50   \n",
       "4    60a2781488a2a0ed6c9c801b 2021-05-17 14:05:09  100      50   \n",
       "..                        ...                 ...  ...     ...   \n",
       "717  60a2794288a2a0ed6c9c8552 2021-05-17 14:10:10  587     250   \n",
       "718  60a2794388a2a0ed6c9c8555 2021-05-17 14:10:11  587     250   \n",
       "719  60a2794388a2a0ed6c9c8556 2021-05-17 14:10:11  587     250   \n",
       "720  60a2794488a2a0ed6c9c8559 2021-05-17 14:10:12  587     250   \n",
       "721  60a2794488a2a0ed6c9c855a 2021-05-17 14:10:12  587     250   \n",
       "\n",
       "                 pod_name  \n",
       "0    vpa-589964f979-6mk5t  \n",
       "1    vpa-589964f979-xq625  \n",
       "2    vpa-589964f979-6mk5t  \n",
       "3    vpa-589964f979-xq625  \n",
       "4    vpa-589964f979-6mk5t  \n",
       "..                    ...  \n",
       "717  vpa-589964f979-dgtwf  \n",
       "718  vpa-589964f979-c4675  \n",
       "719  vpa-589964f979-dgtwf  \n",
       "720  vpa-589964f979-c4675  \n",
       "721  vpa-589964f979-dgtwf  \n",
       "\n",
       "[722 rows x 5 columns]"
      ]
     },
     "execution_count": 223,
     "metadata": {},
     "output_type": "execute_result"
    }
   ],
   "source": [
    "request = record['requests']\n",
    "usage = record['usage']\n",
    "request"
   ]
  },
  {
   "cell_type": "code",
   "execution_count": 224,
   "id": "107d9517",
   "metadata": {},
   "outputs": [],
   "source": [
    "pod_usage = {}\n",
    "for i in usage['pod_name'].unique():\n",
    "    pod_usage[i] = usage[usage['pod_name'] == i]\n",
    "    \n",
    "pod_request = {}\n",
    "for i in request['pod_name'].unique():\n",
    "    pod_request[i] = request[request['pod_name'] == i]"
   ]
  },
  {
   "cell_type": "code",
   "execution_count": 225,
   "id": "50004b47",
   "metadata": {},
   "outputs": [
    {
     "data": {
      "image/png": "[encoded data removed]",
      "text/plain": [
       "<Figure size 936x648 with 2 Axes>"
      ]
     },
     "metadata": {
      "needs_background": "light"
     },
     "output_type": "display_data"
    }
   ],
   "source": [
    "fig, (ax1, ax2) = plt.subplots(2, 1, figsize=(13,9))\n",
    "for i in pod_request:\n",
    "    ax1.scatter(pod_request[i].time, pod_request[i].cpu,marker='.',label=i[-5:]+' request')\n",
    "    ax1.plot(pod_usage[i].time, pod_usage[i].cpu, label=i[-5:] + ' usage')\n",
    "ax1.xaxis.set_major_formatter(mdates.DateFormatter('%Y-%m-%d %H:%M:%S'))\n",
    "ax1.xaxis.set_minor_locator(mdates.MinuteLocator())\n",
    "ax1.set_ylabel('CPU(m)', fontsize=14)\n",
    "ax1.set_xlabel('timeline', fontsize=14)\n",
    "ax1.legend()\n",
    "\n",
    "for i in pod_request:\n",
    "    ax2.scatter(pod_request[i].time, pod_request[i].memory,marker='.',label=i[-5:]+' request')\n",
    "    ax2.plot(pod_usage[i].time, pod_usage[i].memory, label=i[-5:] + ' usage')\n",
    "ax2.xaxis.set_major_formatter(mdates.DateFormatter('%Y-%m-%d %H:%M:%S'))\n",
    "ax2.xaxis.set_minor_locator(mdates.MinuteLocator())\n",
    "ax2.set_ylabel('Memory(Mi)', fontsize=14)\n",
    "ax2.set_xlabel('timeline', fontsize=14)\n",
    "ax2.legend()\n",
    "\n",
    "fig.autofmt_xdate() #rotate labels\n",
    "plt.show()"
   ]
  },
  {
   "cell_type": "code",
   "execution_count": null,
   "id": "13d71dba",
   "metadata": {},
   "outputs": [],
   "source": []
  }
 ],
 "metadata": {
  "kernelspec": {
   "display_name": "Python 3",
   "language": "python",
   "name": "python3"
  },
  "language_info": {
   "codemirror_mode": {
    "name": "ipython",
    "version": 3
   },
   "file_extension": ".py",
   "mimetype": "text/x-python",
   "name": "python",
   "nbconvert_exporter": "python",
   "pygments_lexer": "ipython3",
   "version": "3.8.5"
  }
 },
 "nbformat": 4,
 "nbformat_minor": 5
}
