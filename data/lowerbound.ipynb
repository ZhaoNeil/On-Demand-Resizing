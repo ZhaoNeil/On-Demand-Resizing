{
 "cells": [
  {
   "cell_type": "code",
   "execution_count": 1,
   "id": "39aff21d",
   "metadata": {},
   "outputs": [],
   "source": [
    "import pymongo\n",
    "import math\n",
    "import operator\n",
    "import numpy as np\n",
    "import pandas as pd\n",
    "import matplotlib.pyplot as plt\n",
    "from datetime import datetime\n",
    "import matplotlib.dates as mdates"
   ]
  },
  {
   "cell_type": "code",
   "execution_count": 2,
   "id": "3694b2c3",
   "metadata": {},
   "outputs": [
    {
     "data": {
      "text/plain": [
       "'ema-5-3-aload'"
      ]
     },
     "execution_count": 2,
     "metadata": {},
     "output_type": "execute_result"
    }
   ],
   "source": [
    "mongoclient = pymongo.MongoClient(\"mongodb://localhost:27017/\")\n",
    "db = mongoclient['ema-5-3-aload']\n",
    "db.name"
   ]
  },
  {
   "cell_type": "code",
   "execution_count": 3,
   "id": "8a87bbc3",
   "metadata": {},
   "outputs": [
    {
     "data": {
      "text/plain": [
       "['vpa', 'usage', 'requests']"
      ]
     },
     "execution_count": 3,
     "metadata": {},
     "output_type": "execute_result"
    }
   ],
   "source": [
    "collist = db.list_collection_names()\n",
    "collist"
   ]
  },
  {
   "cell_type": "code",
   "execution_count": 4,
   "id": "948aed9b",
   "metadata": {},
   "outputs": [
    {
     "data": {
      "text/html": [
       "<div>\n",
       "<style scoped>\n",
       "    .dataframe tbody tr th:only-of-type {\n",
       "        vertical-align: middle;\n",
       "    }\n",
       "\n",
       "    .dataframe tbody tr th {\n",
       "        vertical-align: top;\n",
       "    }\n",
       "\n",
       "    .dataframe thead th {\n",
       "        text-align: right;\n",
       "    }\n",
       "</style>\n",
       "<table border=\"1\" class=\"dataframe\">\n",
       "  <thead>\n",
       "    <tr style=\"text-align: right;\">\n",
       "      <th></th>\n",
       "      <th>_id</th>\n",
       "      <th>time</th>\n",
       "      <th>target_cpu</th>\n",
       "      <th>target_mem</th>\n",
       "      <th>lowerBound_cpu</th>\n",
       "      <th>lowerBound_mem</th>\n",
       "      <th>upperBound_cpu</th>\n",
       "      <th>upperBound_mem</th>\n",
       "      <th>containerName</th>\n",
       "    </tr>\n",
       "  </thead>\n",
       "  <tbody>\n",
       "    <tr>\n",
       "      <th>0</th>\n",
       "      <td>60f36baa8254c62e0f01ac72</td>\n",
       "      <td>2021-07-17 23:45:46</td>\n",
       "      <td>25m</td>\n",
       "      <td>262144k</td>\n",
       "      <td>25m</td>\n",
       "      <td>262144k</td>\n",
       "      <td>2881m</td>\n",
       "      <td>33131500k</td>\n",
       "      <td>redis-master</td>\n",
       "    </tr>\n",
       "    <tr>\n",
       "      <th>1</th>\n",
       "      <td>60f36bab8254c62e0f01ac79</td>\n",
       "      <td>2021-07-17 23:45:47</td>\n",
       "      <td>25m</td>\n",
       "      <td>262144k</td>\n",
       "      <td>25m</td>\n",
       "      <td>262144k</td>\n",
       "      <td>2881m</td>\n",
       "      <td>33131500k</td>\n",
       "      <td>redis-master</td>\n",
       "    </tr>\n",
       "    <tr>\n",
       "      <th>2</th>\n",
       "      <td>60f36bac8254c62e0f01ac80</td>\n",
       "      <td>2021-07-17 23:45:48</td>\n",
       "      <td>25m</td>\n",
       "      <td>262144k</td>\n",
       "      <td>25m</td>\n",
       "      <td>262144k</td>\n",
       "      <td>2881m</td>\n",
       "      <td>33131500k</td>\n",
       "      <td>redis-master</td>\n",
       "    </tr>\n",
       "    <tr>\n",
       "      <th>3</th>\n",
       "      <td>60f36bad8254c62e0f01ac87</td>\n",
       "      <td>2021-07-17 23:45:49</td>\n",
       "      <td>25m</td>\n",
       "      <td>262144k</td>\n",
       "      <td>25m</td>\n",
       "      <td>262144k</td>\n",
       "      <td>2881m</td>\n",
       "      <td>33131500k</td>\n",
       "      <td>redis-master</td>\n",
       "    </tr>\n",
       "    <tr>\n",
       "      <th>4</th>\n",
       "      <td>60f36bae8254c62e0f01ac8e</td>\n",
       "      <td>2021-07-17 23:45:50</td>\n",
       "      <td>25m</td>\n",
       "      <td>262144k</td>\n",
       "      <td>25m</td>\n",
       "      <td>262144k</td>\n",
       "      <td>2881m</td>\n",
       "      <td>33131500k</td>\n",
       "      <td>redis-master</td>\n",
       "    </tr>\n",
       "  </tbody>\n",
       "</table>\n",
       "</div>"
      ],
      "text/plain": [
       "                        _id                time target_cpu target_mem  \\\n",
       "0  60f36baa8254c62e0f01ac72 2021-07-17 23:45:46        25m    262144k   \n",
       "1  60f36bab8254c62e0f01ac79 2021-07-17 23:45:47        25m    262144k   \n",
       "2  60f36bac8254c62e0f01ac80 2021-07-17 23:45:48        25m    262144k   \n",
       "3  60f36bad8254c62e0f01ac87 2021-07-17 23:45:49        25m    262144k   \n",
       "4  60f36bae8254c62e0f01ac8e 2021-07-17 23:45:50        25m    262144k   \n",
       "\n",
       "  lowerBound_cpu lowerBound_mem upperBound_cpu upperBound_mem containerName  \n",
       "0            25m        262144k          2881m      33131500k  redis-master  \n",
       "1            25m        262144k          2881m      33131500k  redis-master  \n",
       "2            25m        262144k          2881m      33131500k  redis-master  \n",
       "3            25m        262144k          2881m      33131500k  redis-master  \n",
       "4            25m        262144k          2881m      33131500k  redis-master  "
      ]
     },
     "execution_count": 4,
     "metadata": {},
     "output_type": "execute_result"
    }
   ],
   "source": [
    "vpa = pd.DataFrame(list(db['vpa'].find()))\n",
    "vpa['time'] = pd.to_datetime(vpa['time'],unit='s').round('1s')\n",
    "vpa.head()"
   ]
  },
  {
   "cell_type": "code",
   "execution_count": 5,
   "id": "97c7f1c4",
   "metadata": {},
   "outputs": [],
   "source": [
    "# convert cpu unit 'n' to 'm'\n",
    "def convert_cpu(x):\n",
    "    if x != 0:\n",
    "        if x[-1] == 'n':\n",
    "            return round(int(x[:-1])/1000000)\n",
    "        elif x[-1] == 'm':\n",
    "            return int(x[:-1])\n",
    "    else:\n",
    "        return 0\n",
    "    \n",
    "# convert memory unit 'k' and 'Ki' to 'Mi'\n",
    "# 1k = 1000/1024 Ki = 1000/1024**2 Mi\n",
    "def convert_mem(x):\n",
    "    if x != 0:\n",
    "        if x[-1] == 'k':\n",
    "            return round(int(x[:-1])*1000/1024**2)\n",
    "        elif x[-2:] == 'Ki':\n",
    "            return round(int(x[:-2])/1024)\n",
    "        elif x[-2:] == 'Mi':\n",
    "            return int(x[:-2])\n",
    "    else:\n",
    "        return 0"
   ]
  },
  {
   "cell_type": "code",
   "execution_count": 6,
   "id": "78dc2894",
   "metadata": {
    "scrolled": false
   },
   "outputs": [],
   "source": [
    "record = {}\n",
    "collist = ['usage', 'requests']\n",
    "for col in collist:\n",
    "    record[col] = pd.DataFrame(list(db[col].find()))\n",
    "    # convert timestamp to time\n",
    "    record[col]['time'] = pd.to_datetime(record[col]['time'],unit='s').round('1s')\n",
    "    record[col]['cpu'] = record[col]['cpu'].apply(lambda x: convert_cpu(x))\n",
    "    record[col]['cpu'] = record[col]['cpu'].fillna(0)\n",
    "    record[col]['memory'] = record[col]['memory'].apply(lambda x: convert_mem(x))"
   ]
  },
  {
   "cell_type": "code",
   "execution_count": 7,
   "id": "681214ba",
   "metadata": {},
   "outputs": [],
   "source": [
    "vpa['target_cpu'] = vpa['target_cpu'].apply(lambda x: convert_cpu(x))\n",
    "vpa['lowerBound_cpu'] = vpa['lowerBound_cpu'].apply(lambda x: convert_cpu(x))\n",
    "vpa['upperBound_cpu'] = vpa['upperBound_cpu'].apply(lambda x: convert_cpu(x))"
   ]
  },
  {
   "cell_type": "code",
   "execution_count": 8,
   "id": "5cce29f8",
   "metadata": {
    "scrolled": true
   },
   "outputs": [
    {
     "data": {
      "text/html": [
       "<div>\n",
       "<style scoped>\n",
       "    .dataframe tbody tr th:only-of-type {\n",
       "        vertical-align: middle;\n",
       "    }\n",
       "\n",
       "    .dataframe tbody tr th {\n",
       "        vertical-align: top;\n",
       "    }\n",
       "\n",
       "    .dataframe thead th {\n",
       "        text-align: right;\n",
       "    }\n",
       "</style>\n",
       "<table border=\"1\" class=\"dataframe\">\n",
       "  <thead>\n",
       "    <tr style=\"text-align: right;\">\n",
       "      <th></th>\n",
       "      <th>_id</th>\n",
       "      <th>time</th>\n",
       "      <th>cpu</th>\n",
       "      <th>memory</th>\n",
       "      <th>pod_name</th>\n",
       "    </tr>\n",
       "  </thead>\n",
       "  <tbody>\n",
       "    <tr>\n",
       "      <th>0</th>\n",
       "      <td>60f36baa8254c62e0f01ac6c</td>\n",
       "      <td>2021-07-17 23:45:46</td>\n",
       "      <td>1</td>\n",
       "      <td>4</td>\n",
       "      <td>redis-master-0</td>\n",
       "    </tr>\n",
       "    <tr>\n",
       "      <th>3</th>\n",
       "      <td>60f36bab8254c62e0f01ac73</td>\n",
       "      <td>2021-07-17 23:45:47</td>\n",
       "      <td>1</td>\n",
       "      <td>4</td>\n",
       "      <td>redis-master-0</td>\n",
       "    </tr>\n",
       "    <tr>\n",
       "      <th>6</th>\n",
       "      <td>60f36bac8254c62e0f01ac7a</td>\n",
       "      <td>2021-07-17 23:45:48</td>\n",
       "      <td>1</td>\n",
       "      <td>4</td>\n",
       "      <td>redis-master-0</td>\n",
       "    </tr>\n",
       "    <tr>\n",
       "      <th>9</th>\n",
       "      <td>60f36bad8254c62e0f01ac81</td>\n",
       "      <td>2021-07-17 23:45:49</td>\n",
       "      <td>1</td>\n",
       "      <td>4</td>\n",
       "      <td>redis-master-0</td>\n",
       "    </tr>\n",
       "    <tr>\n",
       "      <th>12</th>\n",
       "      <td>60f36bae8254c62e0f01ac88</td>\n",
       "      <td>2021-07-17 23:45:50</td>\n",
       "      <td>1</td>\n",
       "      <td>4</td>\n",
       "      <td>redis-master-0</td>\n",
       "    </tr>\n",
       "  </tbody>\n",
       "</table>\n",
       "</div>"
      ],
      "text/plain": [
       "                         _id                time  cpu  memory        pod_name\n",
       "0   60f36baa8254c62e0f01ac6c 2021-07-17 23:45:46    1       4  redis-master-0\n",
       "3   60f36bab8254c62e0f01ac73 2021-07-17 23:45:47    1       4  redis-master-0\n",
       "6   60f36bac8254c62e0f01ac7a 2021-07-17 23:45:48    1       4  redis-master-0\n",
       "9   60f36bad8254c62e0f01ac81 2021-07-17 23:45:49    1       4  redis-master-0\n",
       "12  60f36bae8254c62e0f01ac88 2021-07-17 23:45:50    1       4  redis-master-0"
      ]
     },
     "execution_count": 8,
     "metadata": {},
     "output_type": "execute_result"
    }
   ],
   "source": [
    "request = record['requests']\n",
    "usage = record['usage']\n",
    "request = request[request['pod_name'] == 'redis-master-0']\n",
    "usage = usage[usage['pod_name'] == 'redis-master-0']\n",
    "usage.head()"
   ]
  },
  {
   "cell_type": "code",
   "execution_count": 12,
   "id": "94fae819",
   "metadata": {},
   "outputs": [
    {
     "data": {
      "image/png": "[encoded data removed]",
      "text/plain": [
       "<Figure size 936x576 with 1 Axes>"
      ]
     },
     "metadata": {
      "needs_background": "light"
     },
     "output_type": "display_data"
    }
   ],
   "source": [
    "fig, ax = plt.subplots(1,1,figsize=(13,8),sharex=True,sharey=True)\n",
    "# ax.scatter(request.time, request.cpu,marker='.',label='request')\n",
    "ax.plot(usage.time, usage.cpu,label='CPU usage',color='r')\n",
    "ax.plot(vpa.time, vpa.target_cpu,label=db.name,color='b')\n",
    "ax.plot(vpa.time, vpa.lowerBound_cpu,label='lowerBound',color='y')\n",
    "# ax.plot(vpa.time, vpa.upperBound_cpu,label='upperBound',color='c')\n",
    "ax.legend(fontsize=16)\n",
    "ax.set_ylabel('CPU(m)', fontsize=16)\n",
    "ax.set_xlabel('timeline', fontsize=16)\n",
    "plt.yticks(size = 14)\n",
    "plt.xticks(size = 14)\n",
    "ax.xaxis.set_major_formatter(mdates.DateFormatter('%H:%M:%S'))\n",
    "ax.xaxis.set_minor_locator(mdates.MinuteLocator())\n",
    "fig.autofmt_xdate() #rotate labels\n",
    "plt.show()"
   ]
  },
  {
   "cell_type": "code",
   "execution_count": 155,
   "id": "fbcb4ed6",
   "metadata": {},
   "outputs": [],
   "source": [
    "def evaluate(usage, prediction):\n",
    "    slack = list(map(operator.sub, prediction, usage))\n",
    "    slack_total = 0\n",
    "    insufficient_count = 0\n",
    "    insufficient_total = 0\n",
    "    for i in slack:\n",
    "        if i < 0:\n",
    "            insufficient_count += 1\n",
    "            insufficient_total += abs(i)\n",
    "        else:\n",
    "            slack_total += i\n",
    "    return slack_total/len(usage), insufficient_count/len(usage)*100, insufficient_total/len(usage)"
   ]
  },
  {
   "cell_type": "code",
   "execution_count": 156,
   "id": "544ad6af",
   "metadata": {},
   "outputs": [
    {
     "name": "stdout",
     "output_type": "stream",
     "text": [
      "\t\tAvg. slack(m)\t Insufficient CPU(%)\t Avg. insufficient CPU(m)\n",
      "ema-5-3-aload 51.864444444444445 34.44444444444444 42.52777777777778\n"
     ]
    }
   ],
   "source": [
    "db_name = []\n",
    "db_name = evaluate(usage.cpu, vpa.target_cpu)\n",
    "print(\"\\t\\tAvg. slack(m)\\t Insufficient CPU(%)\\t Avg. insufficient CPU(m)\")\n",
    "print(db.name, db_name[0], db_name[1], db_name[2])"
   ]
  },
  {
   "cell_type": "code",
   "execution_count": null,
   "id": "4b21d269",
   "metadata": {},
   "outputs": [],
   "source": []
  }
 ],
 "metadata": {
  "kernelspec": {
   "display_name": "Python 3",
   "language": "python",
   "name": "python3"
  },
  "language_info": {
   "codemirror_mode": {
    "name": "ipython",
    "version": 3
   },
   "file_extension": ".py",
   "mimetype": "text/x-python",
   "name": "python",
   "nbconvert_exporter": "python",
   "pygments_lexer": "ipython3",
   "version": "3.8.10"
  }
 },
 "nbformat": 4,
 "nbformat_minor": 5
}
