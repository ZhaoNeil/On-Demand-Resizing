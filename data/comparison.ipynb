{
 "cells": [
  {
   "cell_type": "code",
   "execution_count": 1,
   "id": "bc915e75",
   "metadata": {},
   "outputs": [],
   "source": [
    "# LSTM and HW implementations refer to:\n",
    "# https://github.com/thowan/predictive-autoscaler/blob/master/kube/online/offline-2methods.py\n",
    "# Author of LSTM and HW implementations: Thomas Wang(thowan)\n",
    "\n",
    "import pymongo\n",
    "import math\n",
    "import operator\n",
    "import numpy as np\n",
    "import pandas as pd\n",
    "import matplotlib.pyplot as plt\n",
    "from datetime import datetime\n",
    "import matplotlib.dates as mdates\n",
    "from sklearn.preprocessing import MinMaxScaler\n",
    "from statsmodels.tsa.api import ExponentialSmoothing\n",
    "from keras.models import Sequential\n",
    "from keras.layers import Dense\n",
    "from keras.layers import LSTM\n",
    "import warnings\n",
    "warnings.filterwarnings('ignore')"
   ]
  },
  {
   "cell_type": "code",
   "execution_count": 2,
   "id": "79ae6bd1",
   "metadata": {},
   "outputs": [
    {
     "data": {
      "text/plain": [
       "'ema-5-3-aload'"
      ]
     },
     "execution_count": 2,
     "metadata": {},
     "output_type": "execute_result"
    }
   ],
   "source": [
    "mongoclient = pymongo.MongoClient(\"mongodb://localhost:27017/\")\n",
    "db = mongoclient['ema-5-3-aload']\n",
    "db.name"
   ]
  },
  {
   "cell_type": "code",
   "execution_count": 3,
   "id": "2db0ce60",
   "metadata": {},
   "outputs": [
    {
     "data": {
      "text/plain": [
       "['vpa', 'usage', 'requests']"
      ]
     },
     "execution_count": 3,
     "metadata": {},
     "output_type": "execute_result"
    }
   ],
   "source": [
    "collist = db.list_collection_names()\n",
    "collist"
   ]
  },
  {
   "cell_type": "code",
   "execution_count": 4,
   "id": "8a7fcef9",
   "metadata": {},
   "outputs": [],
   "source": [
    "# convert cpu unit 'n' to 'm'\n",
    "def convert_cpu(x):\n",
    "    if x != 0:\n",
    "        if x[-1] == 'n':\n",
    "            return round(int(x[:-1])/1000000)\n",
    "        elif x[-1] == 'm':\n",
    "            return int(x[:-1])\n",
    "    else:\n",
    "        return 0\n",
    "    \n",
    "# convert memory unit 'k' and 'Ki' to 'Mi'\n",
    "# 1k = 1000/1024 Ki = 1000/1024**2 Mi\n",
    "def convert_mem(x):\n",
    "    if x != 0:\n",
    "        if x[-1] == 'k':\n",
    "            return round(int(x[:-1])*1000/1024**2)\n",
    "        elif x[-2:] == 'Ki':\n",
    "            return round(int(x[:-2])/1024)\n",
    "        elif x[-2:] == 'Mi':\n",
    "            return int(x[:-2])\n",
    "    else:\n",
    "        return 0"
   ]
  },
  {
   "cell_type": "code",
   "execution_count": 5,
   "id": "ae4cd7fd",
   "metadata": {},
   "outputs": [],
   "source": [
    "record = {}\n",
    "collist = ['usage', 'requests']\n",
    "for col in collist:\n",
    "    record[col] = pd.DataFrame(list(db[col].find()))\n",
    "    # convert timestamp to time\n",
    "    record[col]['time'] = pd.to_datetime(record[col]['time'],unit='s').round('1s')\n",
    "    record[col]['cpu'] = record[col]['cpu'].apply(lambda x: convert_cpu(x))\n",
    "    record[col]['cpu'] = record[col]['cpu'].fillna(0)\n",
    "    record[col]['memory'] = record[col]['memory'].apply(lambda x: convert_mem(x))"
   ]
  },
  {
   "cell_type": "code",
   "execution_count": 6,
   "id": "a3ffeafa",
   "metadata": {
    "scrolled": true
   },
   "outputs": [],
   "source": [
    "request = record['requests']\n",
    "usage = record['usage']\n",
    "request = request[request['pod_name'] == 'redis-master-0']\n",
    "usage = usage[usage['pod_name'] == 'redis-master-0']\n",
    "# usage.head()"
   ]
  },
  {
   "cell_type": "code",
   "execution_count": 7,
   "id": "3d8b5eb7",
   "metadata": {},
   "outputs": [],
   "source": [
    "series = np.array(usage.cpu)"
   ]
  },
  {
   "cell_type": "code",
   "execution_count": 8,
   "id": "f096e58b",
   "metadata": {
    "scrolled": true
   },
   "outputs": [],
   "source": [
    "vpa = pd.DataFrame(list(db['vpa'].find()))\n",
    "vpa['time'] = pd.to_datetime(vpa['time'],unit='s').round('1s')\n",
    "vpa['target_cpu'] = vpa['target_cpu'].apply(lambda x: convert_cpu(x))\n",
    "vpa['target_mem'] = vpa['target_mem'].apply(lambda x: convert_mem(x))\n",
    "vpa['lowerBound_cpu'] = vpa['lowerBound_cpu'].apply(lambda x: convert_cpu(x))\n",
    "vpa['lowerBound_mem'] = vpa['lowerBound_mem'].apply(lambda x: convert_mem(x))\n",
    "vpa['upperBound_cpu'] = vpa['upperBound_cpu'].apply(lambda x: convert_cpu(x))\n",
    "vpa['upperBound_mem'] = vpa['upperBound_mem'].apply(lambda x: convert_mem(x))\n",
    "# vpa.head()"
   ]
  },
  {
   "cell_type": "code",
   "execution_count": 9,
   "id": "fa7a9b08",
   "metadata": {},
   "outputs": [],
   "source": [
    "def split_sequence(sequence, n_steps_in, n_steps_out, ywindow):\n",
    "    X, y = list(), list()\n",
    "\n",
    "    for i in range(len(sequence)-ywindow-n_steps_in+1):\n",
    "        # find the end of this pattern\n",
    "        end_ix = i + n_steps_in\n",
    "\n",
    "        # gather input and output parts of the pattern\n",
    "        # print(sequence[end_ix:end_ix+ywindow])\n",
    "        seq_x, seq_y = sequence[i:end_ix], [np.percentile(sequence[end_ix:end_ix+ywindow], 90), np.percentile(sequence[end_ix:end_ix+ywindow], 60), np.percentile(sequence[end_ix:end_ix+ywindow], 98)]\n",
    "        X.append(seq_x)\n",
    "        y.append(seq_y)\n",
    "\n",
    "    return np.array(X), np.array(y)"
   ]
  },
  {
   "cell_type": "code",
   "execution_count": 10,
   "id": "42e702f8",
   "metadata": {},
   "outputs": [],
   "source": [
    "def trans_foward(arr):\n",
    "    global scaler\n",
    "    out_arr = scaler.transform(arr.reshape(-1, 1))\n",
    "    return out_arr.flatten()\n",
    "\n",
    "def trans_back(arr):\n",
    "    global scaler\n",
    "    out_arr = scaler.inverse_transform(arr.flatten().reshape(-1, 1))\n",
    "    return out_arr.flatten()"
   ]
  },
  {
   "cell_type": "code",
   "execution_count": 11,
   "id": "83edb3fe",
   "metadata": {},
   "outputs": [],
   "source": [
    "def create_lstm(n_steps_in, n_steps_out, n_features,raw_seq, ywindow):\n",
    "    global scaler\n",
    "    scaler = MinMaxScaler(feature_range=(0, 1))\n",
    "    scaler = scaler.fit(raw_seq.reshape(-1, 1))\n",
    "    #print(\"First 10 of raw_seq:\", raw_seq[:20])\n",
    "    dataset = trans_foward(raw_seq)\n",
    "    # split into samples\n",
    "    X, y = split_sequence(dataset, n_steps_in, n_steps_out, ywindow)\n",
    "    # reshape from [samples, timesteps] into [samples, timesteps, features]\n",
    "    X = X.reshape((X.shape[0], X.shape[1], n_features))\n",
    "    # define model\n",
    "    model = Sequential()\n",
    "    \n",
    "    # Multi-layer model \n",
    "    model.add(LSTM(50, return_sequences=True , input_shape=(n_steps_in, n_features)))\n",
    "    # model.add(LSTM(50, return_sequences=True))\n",
    "    model.add(LSTM(50))\n",
    "\n",
    "    # Single layer model\n",
    "    # model.add(LSTM(100, input_shape=(n_steps_in, n_features)))\n",
    "\n",
    "    model.add(Dense(n_steps_out))\n",
    "    model.compile(optimizer='adam', loss='mse')\n",
    "    # fit model\n",
    "    model.fit(X, y, epochs=10, verbose=0)\n",
    "    \n",
    "    return model"
   ]
  },
  {
   "cell_type": "code",
   "execution_count": 12,
   "id": "53691be2",
   "metadata": {},
   "outputs": [],
   "source": [
    "def lstm_predict(input_data,model,n_steps_in,n_features): \n",
    "    x_input = np.array(trans_foward(input_data))\n",
    "    x_input = x_input.reshape((1, n_steps_in, n_features))\n",
    "    yhat = model.predict(x_input, verbose=0)\n",
    "    return trans_back(yhat)"
   ]
  },
  {
   "cell_type": "code",
   "execution_count": 13,
   "id": "765006fb",
   "metadata": {},
   "outputs": [],
   "source": [
    "def calc_n(i, season_len, history_len):\n",
    "    season = math.ceil((i+1)/season_len)\n",
    "    history_start_season = season - (history_len/season_len)\n",
    "    if history_start_season < 1:\n",
    "        history_start_season = 1\n",
    "    history_start = (history_start_season-1) * season_len \n",
    "    n = int(i - history_start)\n",
    "    return n"
   ]
  },
  {
   "cell_type": "code",
   "execution_count": 14,
   "id": "279fa6ce",
   "metadata": {},
   "outputs": [],
   "source": [
    "HW_target, HW_upper, HW_lower = 90, 98, 60\n",
    "lstm_target, lstm_upper, lstm_lower = 90, 98, 60\n",
    "\n",
    "season_len = 60\n",
    "history_len = season_len * 3\n",
    "scaling_start_index = season_len * 2\n",
    "\n",
    "window_past = 1\n",
    "window_future = 24\n",
    "\n",
    "i = scaling_start_index\n",
    "rescale_buffer = 120\n",
    "rescale_cooldown = 18\n",
    "lstm_cooldown = 0\n",
    "hw_cooldown = 0\n",
    "\n",
    "model = None\n",
    "hw_model = None\n",
    "steps_in, steps_out, n_features, ywindow = 48, 3, 1, 24\n",
    "\n",
    "lstm_CPU_request = 250\n",
    "hw_CPU_request =250\n",
    "\n",
    "lstm_requests = [lstm_CPU_request] * scaling_start_index\n",
    "lstm_targets = []\n",
    "lstm_uppers = []\n",
    "lstm_lowers = []\n",
    "\n",
    "hw_requests = [hw_CPU_request] * scaling_start_index\n",
    "hw_targets = []\n",
    "hw_uppers = []\n",
    "hw_lowers = []\n",
    "\n",
    "while i <= len(series):\n",
    "    series_part = series[:i]\n",
    "    n = calc_n(i, season_len, history_len)\n",
    "    \n",
    "    #HW model\n",
    "    if i % 60 == 0 or hw_model is None:\n",
    "        hw_model = ExponentialSmoothing(series_part[-n:], trend=\"add\", seasonal=\"add\", seasonal_periods=season_len)\n",
    "        model_fit = hw_model.fit()\n",
    "        \n",
    "    hw_window = model_fit.predict(start=n-window_past,end=n+window_future)\n",
    "    hw_target = np.percentile(hw_window, HW_target)\n",
    "    hw_lower = np.percentile(hw_window, HW_lower)\n",
    "    hw_upper = np.percentile(hw_window, HW_upper)\n",
    "    if hw_target < 0:\n",
    "        hw_target = 0\n",
    "    if hw_lower < 0:\n",
    "        hw_lower = 0\n",
    "    if hw_upper < 0:\n",
    "        hw_upper = 0\n",
    "    hw_targets.append(hw_target)\n",
    "    hw_uppers.append(hw_upper)\n",
    "    hw_lowers.append(hw_lower)\n",
    "    \n",
    "    #LSTM model\n",
    "    if i % 60 == 0 or model is None:\n",
    "        model = create_lstm(steps_in, steps_out, n_features, series_part, ywindow)\n",
    "    \n",
    "    input_data = np.array(series_part[-steps_in:])\n",
    "    output_data = lstm_predict(input_data, model, steps_in, n_features)\n",
    "    \n",
    "    lstm_target = output_data[0]\n",
    "    lstm_lower = output_data[1]\n",
    "    lstm_upper = output_data[2]\n",
    "    if lstm_target < 0:\n",
    "        lstm_target = 0\n",
    "    if lstm_lower < 0:\n",
    "        lstm_lower = 0\n",
    "    if lstm_upper < 0:\n",
    "        lstm_upper = 0\n",
    "    lstm_targets.append(lstm_target)\n",
    "    lstm_uppers.append(lstm_upper)\n",
    "    lstm_lowers.append(lstm_lower)\n",
    "    \n",
    "    # HW scaling \n",
    "    hw_CPU_request_unbuffered = hw_CPU_request - rescale_buffer\n",
    "    # If no cool-down\n",
    "    if (hw_cooldown == 0):\n",
    "        # If request change greater than 50\n",
    "        if (abs(hw_CPU_request - (hw_target + rescale_buffer)) > 50):\n",
    "            # If above upper\n",
    "            if hw_CPU_request_unbuffered > hw_upper:\n",
    "                hw_CPU_request = hw_target + rescale_buffer\n",
    "                hw_cooldown = rescale_cooldown\n",
    "            # elseIf under lower\n",
    "            elif hw_CPU_request_unbuffered < hw_lower: \n",
    "                hw_CPU_request = hw_target + rescale_buffer\n",
    "                hw_cooldown = rescale_cooldown\n",
    "\n",
    "    # Reduce cooldown \n",
    "    if hw_cooldown > 0:\n",
    "        hw_cooldown -= 1\n",
    "\n",
    "    hw_requests.append(hw_CPU_request)\n",
    "\n",
    "    # LSTM scaling\n",
    "    lstm_CPU_request_unbuffered = lstm_CPU_request - rescale_buffer\n",
    "        \n",
    "    # If no cool-down\n",
    "    if (lstm_cooldown == 0):\n",
    "        # If request change greater than 50\n",
    "        if (abs(lstm_CPU_request - (lstm_target + rescale_buffer)) > 50):\n",
    "            # If above upper\n",
    "            if lstm_CPU_request_unbuffered > lstm_upper:\n",
    "                lstm_CPU_request = lstm_target + rescale_buffer\n",
    "                lstm_cooldown = rescale_cooldown\n",
    "            # elseIf under lower\n",
    "            elif lstm_CPU_request_unbuffered < lstm_lower: \n",
    "                lstm_CPU_request = lstm_target + rescale_buffer\n",
    "                lstm_cooldown = rescale_cooldown\n",
    "\n",
    "    # Reduce cooldown \n",
    "    if lstm_cooldown > 0:\n",
    "        lstm_cooldown -= 1\n",
    "\n",
    "    lstm_requests.append(lstm_CPU_request)\n",
    "    \n",
    "    \n",
    "    i += 1"
   ]
  },
  {
   "cell_type": "code",
   "execution_count": 19,
   "id": "4e092169",
   "metadata": {},
   "outputs": [
    {
     "data": {
      "image/png": "[encoded data removed]",
      "text/plain": [
       "<Figure size 936x576 with 1 Axes>"
      ]
     },
     "metadata": {
      "needs_background": "light"
     },
     "output_type": "display_data"
    }
   ],
   "source": [
    "fig, ax = plt.subplots(1,1,figsize=(13,8),sharex=True,sharey=True)\n",
    "# ax.scatter(request.time, request.cpu,marker='.',label='request')\n",
    "ax.plot(usage.time, usage.cpu,label='CPU usage',color='r')\n",
    "ax.plot(vpa.time, vpa.target_cpu,label='ema-5-3',color='b')\n",
    "ax.plot(usage.time, lstm_requests[:len(usage.time)],label='LSTM',color='g')\n",
    "ax.plot(usage.time, hw_requests[:len(usage.time)],label='HW',color='c')\n",
    "ax.legend(fontsize=16)\n",
    "ax.set_ylabel('CPU(m)', fontsize=16)\n",
    "ax.set_xlabel('timeline', fontsize=16)\n",
    "ax.xaxis.set_major_formatter(mdates.DateFormatter('%H:%M:%S'))\n",
    "ax.xaxis.set_minor_locator(mdates.MinuteLocator())\n",
    "fig.autofmt_xdate() #rotate labels\n",
    "plt.yticks(size = 14)\n",
    "plt.xticks(size = 14)\n",
    "plt.show()"
   ]
  },
  {
   "cell_type": "code",
   "execution_count": 16,
   "id": "f41fe253",
   "metadata": {},
   "outputs": [],
   "source": [
    "def evaluate(usage, prediction):\n",
    "    slack = list(map(operator.sub, prediction, usage))\n",
    "    slack_total = 0\n",
    "    insufficient_count = 0\n",
    "    insufficient_total = 0\n",
    "    for i in slack:\n",
    "        if i < 0:\n",
    "            insufficient_count += 1\n",
    "            insufficient_total += abs(i)\n",
    "        else:\n",
    "            slack_total += i\n",
    "    return slack_total/len(usage), insufficient_count/len(usage)*100, insufficient_total/len(usage)"
   ]
  },
  {
   "cell_type": "code",
   "execution_count": 18,
   "id": "1c7592a4",
   "metadata": {},
   "outputs": [
    {
     "name": "stdout",
     "output_type": "stream",
     "text": [
      "\tAvg. slack(m)\t Insufficient CPU(%)\t Avg. insufficient CPU(m)\n",
      "ema-5-3: 51.864444444444445 34.44444444444444 42.52777777777778\n",
      "lstm: 269.3285110473633 22.11111111111111 40.66776285807292\n",
      "hw: 588.5409571426085 26.333333333333332 111.40349400092363\n"
     ]
    }
   ],
   "source": [
    "ema = []\n",
    "lstm = []\n",
    "hw = []\n",
    "ema = evaluate(usage.cpu, vpa.target_cpu)\n",
    "lstm = evaluate(usage.cpu, lstm_requests)\n",
    "hw = evaluate(usage.cpu, hw_requests)\n",
    "print(\"\\tAvg. slack(m)\\t Insufficient CPU(%)\\t Avg. insufficient CPU(m)\")\n",
    "print(\"ema-5-3:\", ema[0], ema[1], ema[2])\n",
    "print(\"lstm:\", lstm[0], lstm[1], lstm[2])\n",
    "print(\"hw:\", hw[0], hw[1], hw[2])"
   ]
  },
  {
   "cell_type": "code",
   "execution_count": null,
   "id": "77c6b271",
   "metadata": {},
   "outputs": [],
   "source": []
  }
 ],
 "metadata": {
  "kernelspec": {
   "display_name": "Python 3",
   "language": "python",
   "name": "python3"
  },
  "language_info": {
   "codemirror_mode": {
    "name": "ipython",
    "version": 3
   },
   "file_extension": ".py",
   "mimetype": "text/x-python",
   "name": "python",
   "nbconvert_exporter": "python",
   "pygments_lexer": "ipython3",
   "version": "3.8.10"
  }
 },
 "nbformat": 4,
 "nbformat_minor": 5
}
