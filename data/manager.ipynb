{
 "cells": [
  {
   "cell_type": "code",
   "execution_count": 1,
   "id": "445f0567",
   "metadata": {},
   "outputs": [],
   "source": [
    "import json\n",
    "from kubernetes import client,config,watch"
   ]
  },
  {
   "cell_type": "code",
   "execution_count": null,
   "id": "9e7c3333",
   "metadata": {},
   "outputs": [],
   "source": [
    "with open('./monitor_data.json') as f:\n",
    "    "
   ]
  }
 ],
 "metadata": {
  "kernelspec": {
   "display_name": "Python 3",
   "language": "python",
   "name": "python3"
  },
  "language_info": {
   "codemirror_mode": {
    "name": "ipython",
    "version": 3
   },
   "file_extension": ".py",
   "mimetype": "text/x-python",
   "name": "python",
   "nbconvert_exporter": "python",
   "pygments_lexer": "ipython3",
   "version": "3.8.5"
  }
 },
 "nbformat": 4,
 "nbformat_minor": 5
}
