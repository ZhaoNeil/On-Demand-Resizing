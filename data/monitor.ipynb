{
 "cells": [
  {
   "cell_type": "code",
   "execution_count": 76,
   "id": "452ba463",
   "metadata": {},
   "outputs": [],
   "source": [
    "import time\n",
    "import json\n",
    "import pymongo\n",
    "import pandas as pd\n",
    "from datetime import datetime\n",
    "from kubernetes import client,config,watch"
   ]
  },
  {
   "cell_type": "code",
   "execution_count": 77,
   "id": "bbb4bf1d",
   "metadata": {
    "scrolled": true
   },
   "outputs": [],
   "source": [
    "config.load_kube_config()\n",
    "usage_api = client.CustomObjectsApi()\n",
    "request_api = client.CoreV1Api()\n",
    "vpa_api = client.ApiClient()"
   ]
  },
  {
   "cell_type": "code",
   "execution_count": 78,
   "id": "4c120c48",
   "metadata": {},
   "outputs": [],
   "source": [
    "mongoclient = pymongo.MongoClient(\"mongodb://localhost:27017/\")\n",
    "mongoclient.drop_database('theoretical-v0')\n",
    "db = mongoclient['theoretical-v0']"
   ]
  },
  {
   "cell_type": "code",
   "execution_count": 79,
   "id": "f0500831",
   "metadata": {
    "scrolled": true
   },
   "outputs": [],
   "source": [
    "for i in range(60):\n",
    "    timeline = datetime.timestamp(datetime.now())\n",
    "    \n",
    "    #usage\n",
    "    usage = usage_api.list_namespaced_custom_object(group=\"metrics.k8s.io\",version=\"v1beta1\", namespace=\"default\", plural=\"pods\")['items']\n",
    "    for i in usage:\n",
    "        collection = db['usage']\n",
    "        item = dict({'time':timeline}, **i['containers'][0]['usage'])\n",
    "        item.update({'pod_name':i['metadata']['name']})\n",
    "        collection.insert_one(item)\n",
    "    \n",
    "    #request    \n",
    "    request = request_api.list_namespaced_pod(namespace='default').items\n",
    "    for i in request:\n",
    "        collection = db['requests']\n",
    "        if i.spec.containers[0].resources.requests != None:\n",
    "            item = dict({'time':timeline}, **i.spec.containers[0].resources.requests)\n",
    "            item.update({'pod_name':i.metadata.name})\n",
    "            collection.insert_one(item)\n",
    "        else:\n",
    "            item = dict({'time':timeline}, **{'cpu':0, 'memory':0})\n",
    "            item.update({'pod_name':i.metadata.name})\n",
    "            collection.insert_one(item)\n",
    "    \n",
    "    #vpa recommendation\n",
    "    collection = db['vpa']\n",
    "    vpa_metrics = vpa_api.call_api('/apis/autoscaling.k8s.io/v1/namespaces/default/verticalpodautoscalers/redis-vpa', 'GET', _preload_content=False) \n",
    "    vpa_metrics = vpa_metrics[0].data.decode('utf-8')\n",
    "    recommendation = json.loads(vpa_metrics)\n",
    "    target = recommendation['status']['recommendation']['containerRecommendations'][0]['target']\n",
    "    lowerBound = recommendation['status']['recommendation']['containerRecommendations'][0]['lowerBound']\n",
    "    upperBound = recommendation['status']['recommendation']['containerRecommendations'][0]['upperBound']\n",
    "    d1 = {'target_cpu':target['cpu'], 'target_mem':target['memory']}\n",
    "    d2 = {'lowerBound_cpu':lowerBound['cpu'], 'lowerBound_mem':lowerBound['memory']}\n",
    "    d3 = {'upperBound_cpu':upperBound['cpu'], 'upperBound_mem':upperBound['memory']}\n",
    "    d4 = {'containerName':recommendation['status']['recommendation']['containerRecommendations'][0]['containerName']}\n",
    "    item = {'time':timeline}\n",
    "    for d in d1,d2,d3,d4:\n",
    "        item.update(d)\n",
    "    collection.insert_one(item)\n",
    "    \n",
    "    time.sleep(1)"
   ]
  },
  {
   "cell_type": "code",
   "execution_count": 70,
   "id": "ec5cee42",
   "metadata": {},
   "outputs": [],
   "source": [
    "# data = usage_api.list_namespaced_custom_object(group=\"metrics.k8s.io\",version=\"v1beta1\", namespace=\"default\", plural=\"pods\")['items']\n",
    "# for i in data:\n",
    "#     print(i['metadata']['name'])"
   ]
  },
  {
   "cell_type": "code",
   "execution_count": 71,
   "id": "caf5391f",
   "metadata": {
    "scrolled": true
   },
   "outputs": [],
   "source": [
    "# data[0]"
   ]
  },
  {
   "cell_type": "code",
   "execution_count": 72,
   "id": "d76bd356",
   "metadata": {
    "scrolled": true
   },
   "outputs": [],
   "source": [
    "# pod = request_api.list_namespaced_pod(namespace='default')\n",
    "# print(pod.items[0].metadata.name)\n",
    "# print(pod.items[0].spec.containers[0])"
   ]
  },
  {
   "cell_type": "code",
   "execution_count": 59,
   "id": "8d794808",
   "metadata": {},
   "outputs": [],
   "source": [
    "# pod.items[1].spec.containers[0]"
   ]
  },
  {
   "cell_type": "code",
   "execution_count": 75,
   "id": "a841fd4b",
   "metadata": {},
   "outputs": [],
   "source": [
    "# vpa_metrics = vpa_api.call_api('/apis/autoscaling.k8s.io/v1/namespaces/default/verticalpodautoscalers/redis-vpa', 'GET', _preload_content=False) \n",
    "# vpa_metrics = vpa_metrics[0].data.decode('utf-8')\n",
    "# recommendation = json.loads(vpa_metrics)\n",
    "# recommendation['status']['recommendation']['containerRecommendations']"
   ]
  }
 ],
 "metadata": {
  "kernelspec": {
   "display_name": "Python 3",
   "language": "python",
   "name": "python3"
  },
  "language_info": {
   "codemirror_mode": {
    "name": "ipython",
    "version": 3
   },
   "file_extension": ".py",
   "mimetype": "text/x-python",
   "name": "python",
   "nbconvert_exporter": "python",
   "pygments_lexer": "ipython3",
   "version": "3.8.5"
  }
 },
 "nbformat": 4,
 "nbformat_minor": 5
}
