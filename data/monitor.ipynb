{
 "cells": [
  {
   "cell_type": "code",
   "execution_count": 1,
   "id": "452ba463",
   "metadata": {},
   "outputs": [],
   "source": [
    "import json\n",
    "import time\n",
    "import pymongo\n",
    "import pandas as pd\n",
    "from kubernetes import client,config,watch"
   ]
  },
  {
   "cell_type": "code",
   "execution_count": 2,
   "id": "bbb4bf1d",
   "metadata": {
    "scrolled": true
   },
   "outputs": [],
   "source": [
    "config.load_kube_config()\n",
    "api = client.CustomObjectsApi()"
   ]
  },
  {
   "cell_type": "code",
   "execution_count": 4,
   "id": "4c120c48",
   "metadata": {},
   "outputs": [],
   "source": [
    "mongoclient = pymongo.MongoClient(\"mongodb://localhost:27017/\")\n",
    "db = mongoclient['resource']"
   ]
  },
  {
   "cell_type": "code",
   "execution_count": 5,
   "id": "a1e17398",
   "metadata": {},
   "outputs": [],
   "source": [
    "for i in range(60):\n",
    "    data = api.list_namespaced_custom_object(group=\"metrics.k8s.io\",version=\"v1beta1\", namespace=\"default\", plural=\"pods\")['items']\n",
    "    for i in data:\n",
    "        timeline = time.strftime(\"%Y-%m-%d %H:%M:%S\", time.localtime())\n",
    "        collection = db[i['containers'][0]['name']]\n",
    "        item = dict({'time':timeline}, **i['containers'][0]['usage'])\n",
    "        collection.insert_one(item)\n",
    "    time.sleep(1)"
   ]
  }
 ],
 "metadata": {
  "kernelspec": {
   "display_name": "Python 3",
   "language": "python",
   "name": "python3"
  },
  "language_info": {
   "codemirror_mode": {
    "name": "ipython",
    "version": 3
   },
   "file_extension": ".py",
   "mimetype": "text/x-python",
   "name": "python",
   "nbconvert_exporter": "python",
   "pygments_lexer": "ipython3",
   "version": "3.8.5"
  }
 },
 "nbformat": 4,
 "nbformat_minor": 5
}
