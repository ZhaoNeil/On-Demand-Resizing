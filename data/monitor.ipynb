{
 "cells": [
  {
   "cell_type": "code",
   "execution_count": 24,
   "id": "452ba463",
   "metadata": {},
   "outputs": [],
   "source": [
    "import time\n",
    "import pymongo\n",
    "import pandas as pd\n",
    "from datetime import datetime\n",
    "from kubernetes import client,config,watch"
   ]
  },
  {
   "cell_type": "code",
   "execution_count": 28,
   "id": "bbb4bf1d",
   "metadata": {
    "scrolled": true
   },
   "outputs": [],
   "source": [
    "config.load_kube_config()\n",
    "usage_api = client.CustomObjectsApi()\n",
    "request_api = client.CoreV1Api()"
   ]
  },
  {
   "cell_type": "code",
   "execution_count": 31,
   "id": "4c120c48",
   "metadata": {},
   "outputs": [],
   "source": [
    "mongoclient = pymongo.MongoClient(\"mongodb://localhost:27017/\")\n",
    "mongoclient.drop_database('resource')\n",
    "db = mongoclient['resource']"
   ]
  },
  {
   "cell_type": "code",
   "execution_count": 32,
   "id": "f0500831",
   "metadata": {
    "scrolled": true
   },
   "outputs": [],
   "source": [
    "for i in range(1200):\n",
    "    timeline = datetime.timestamp(datetime.now())\n",
    "    \n",
    "    usage = usage_api.list_namespaced_custom_object(group=\"metrics.k8s.io\",version=\"v1beta1\", namespace=\"default\", plural=\"pods\")['items']\n",
    "    for i in usage:\n",
    "#         collection = db[i['metadata']['name']]\n",
    "        collection = db['usage']\n",
    "        item = dict({'time':timeline}, **i['containers'][0]['usage'])\n",
    "        item.update({'pod_name':i['metadata']['name']})\n",
    "        collection.insert_one(item)\n",
    "        \n",
    "    request = request_api.list_namespaced_pod(namespace='default').items\n",
    "    for i in request:\n",
    "#         collection = db[i.metadata.name+'-requests']\n",
    "        collection = db['requests']\n",
    "        if i.spec.containers[0].resources.requests != None:\n",
    "            item = dict({'time':timeline}, **i.spec.containers[0].resources.requests)\n",
    "            item.update({'pod_name':i.metadata.name})\n",
    "            collection.insert_one(item)\n",
    "        else:\n",
    "            item = dict({'time':timeline}, **{'cpu':0, 'memory':0})\n",
    "            item.update({'pod_name':i.metadata.name})\n",
    "            collection.insert_one(item)\n",
    "    time.sleep(1)"
   ]
  },
  {
   "cell_type": "code",
   "execution_count": 5,
   "id": "ec5cee42",
   "metadata": {},
   "outputs": [],
   "source": [
    "# data = usage_api.list_namespaced_custom_object(group=\"metrics.k8s.io\",version=\"v1beta1\", namespace=\"default\", plural=\"pods\")['items']\n",
    "# for i in data:\n",
    "#     print(i['metadata']['name'])"
   ]
  },
  {
   "cell_type": "code",
   "execution_count": 6,
   "id": "caf5391f",
   "metadata": {
    "scrolled": true
   },
   "outputs": [],
   "source": [
    "# data[1]"
   ]
  },
  {
   "cell_type": "code",
   "execution_count": 7,
   "id": "d76bd356",
   "metadata": {
    "scrolled": true
   },
   "outputs": [],
   "source": [
    "# pod = request_api.list_namespaced_pod(namespace='default')\n",
    "# print(pod.items[0].metadata.name)\n",
    "# print(pod.items[0].spec.containers[0])"
   ]
  },
  {
   "cell_type": "code",
   "execution_count": 8,
   "id": "8d794808",
   "metadata": {},
   "outputs": [],
   "source": [
    "# pod.items[1].spec.containers[0]"
   ]
  },
  {
   "cell_type": "code",
   "execution_count": null,
   "id": "a841fd4b",
   "metadata": {},
   "outputs": [],
   "source": []
  }
 ],
 "metadata": {
  "kernelspec": {
   "display_name": "Python 3",
   "language": "python",
   "name": "python3"
  },
  "language_info": {
   "codemirror_mode": {
    "name": "ipython",
    "version": 3
   },
   "file_extension": ".py",
   "mimetype": "text/x-python",
   "name": "python",
   "nbconvert_exporter": "python",
   "pygments_lexer": "ipython3",
   "version": "3.8.5"
  }
 },
 "nbformat": 4,
 "nbformat_minor": 5
}
