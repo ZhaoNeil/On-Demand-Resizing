{
 "cells": [
  {
   "cell_type": "code",
   "execution_count": 132,
   "id": "39aff21d",
   "metadata": {},
   "outputs": [],
   "source": [
    "import pymongo\n",
    "import math\n",
    "import numpy as np\n",
    "import pandas as pd\n",
    "import matplotlib.pyplot as plt\n",
    "from datetime import datetime\n",
    "import matplotlib.dates as mdates\n",
    "from kubernetes import client,config,watch"
   ]
  },
  {
   "cell_type": "code",
   "execution_count": 133,
   "id": "3694b2c3",
   "metadata": {},
   "outputs": [],
   "source": [
    "mongoclient = pymongo.MongoClient(\"mongodb://localhost:27017/\")\n",
    "db = mongoclient['test-v1']"
   ]
  },
  {
   "cell_type": "code",
   "execution_count": 134,
   "id": "8a87bbc3",
   "metadata": {},
   "outputs": [
    {
     "data": {
      "text/plain": [
       "['requests', 'vpa', 'usage']"
      ]
     },
     "execution_count": 134,
     "metadata": {},
     "output_type": "execute_result"
    }
   ],
   "source": [
    "collist = db.list_collection_names()\n",
    "collist"
   ]
  },
  {
   "cell_type": "code",
   "execution_count": 135,
   "id": "948aed9b",
   "metadata": {},
   "outputs": [
    {
     "data": {
      "text/html": [
       "<div>\n",
       "<style scoped>\n",
       "    .dataframe tbody tr th:only-of-type {\n",
       "        vertical-align: middle;\n",
       "    }\n",
       "\n",
       "    .dataframe tbody tr th {\n",
       "        vertical-align: top;\n",
       "    }\n",
       "\n",
       "    .dataframe thead th {\n",
       "        text-align: right;\n",
       "    }\n",
       "</style>\n",
       "<table border=\"1\" class=\"dataframe\">\n",
       "  <thead>\n",
       "    <tr style=\"text-align: right;\">\n",
       "      <th></th>\n",
       "      <th>_id</th>\n",
       "      <th>time</th>\n",
       "      <th>target_cpu</th>\n",
       "      <th>target_mem</th>\n",
       "      <th>lowerBound_cpu</th>\n",
       "      <th>lowerBound_mem</th>\n",
       "      <th>upperBound_cpu</th>\n",
       "      <th>upperBound_mem</th>\n",
       "      <th>containerName</th>\n",
       "    </tr>\n",
       "  </thead>\n",
       "  <tbody>\n",
       "    <tr>\n",
       "      <th>0</th>\n",
       "      <td>60db293b66329c08b74e510b</td>\n",
       "      <td>2021-06-29 14:07:56</td>\n",
       "      <td>25m</td>\n",
       "      <td>262144k</td>\n",
       "      <td>25m</td>\n",
       "      <td>262144k</td>\n",
       "      <td>25m</td>\n",
       "      <td>496811500k</td>\n",
       "      <td>redis-master</td>\n",
       "    </tr>\n",
       "    <tr>\n",
       "      <th>1</th>\n",
       "      <td>60db293c66329c08b74e5112</td>\n",
       "      <td>2021-06-29 14:07:57</td>\n",
       "      <td>25m</td>\n",
       "      <td>262144k</td>\n",
       "      <td>25m</td>\n",
       "      <td>262144k</td>\n",
       "      <td>25m</td>\n",
       "      <td>496811500k</td>\n",
       "      <td>redis-master</td>\n",
       "    </tr>\n",
       "    <tr>\n",
       "      <th>2</th>\n",
       "      <td>60db293d66329c08b74e5119</td>\n",
       "      <td>2021-06-29 14:07:58</td>\n",
       "      <td>25m</td>\n",
       "      <td>262144k</td>\n",
       "      <td>25m</td>\n",
       "      <td>262144k</td>\n",
       "      <td>25m</td>\n",
       "      <td>15066045454</td>\n",
       "      <td>redis-master</td>\n",
       "    </tr>\n",
       "    <tr>\n",
       "      <th>3</th>\n",
       "      <td>60db293f66329c08b74e5120</td>\n",
       "      <td>2021-06-29 14:07:59</td>\n",
       "      <td>25m</td>\n",
       "      <td>262144k</td>\n",
       "      <td>25m</td>\n",
       "      <td>262144k</td>\n",
       "      <td>25m</td>\n",
       "      <td>15066045454</td>\n",
       "      <td>redis-master</td>\n",
       "    </tr>\n",
       "    <tr>\n",
       "      <th>4</th>\n",
       "      <td>60db294066329c08b74e5127</td>\n",
       "      <td>2021-06-29 14:08:00</td>\n",
       "      <td>25m</td>\n",
       "      <td>262144k</td>\n",
       "      <td>25m</td>\n",
       "      <td>262144k</td>\n",
       "      <td>25m</td>\n",
       "      <td>15066045454</td>\n",
       "      <td>redis-master</td>\n",
       "    </tr>\n",
       "  </tbody>\n",
       "</table>\n",
       "</div>"
      ],
      "text/plain": [
       "                        _id                time target_cpu target_mem  \\\n",
       "0  60db293b66329c08b74e510b 2021-06-29 14:07:56        25m    262144k   \n",
       "1  60db293c66329c08b74e5112 2021-06-29 14:07:57        25m    262144k   \n",
       "2  60db293d66329c08b74e5119 2021-06-29 14:07:58        25m    262144k   \n",
       "3  60db293f66329c08b74e5120 2021-06-29 14:07:59        25m    262144k   \n",
       "4  60db294066329c08b74e5127 2021-06-29 14:08:00        25m    262144k   \n",
       "\n",
       "  lowerBound_cpu lowerBound_mem upperBound_cpu upperBound_mem containerName  \n",
       "0            25m        262144k            25m     496811500k  redis-master  \n",
       "1            25m        262144k            25m     496811500k  redis-master  \n",
       "2            25m        262144k            25m    15066045454  redis-master  \n",
       "3            25m        262144k            25m    15066045454  redis-master  \n",
       "4            25m        262144k            25m    15066045454  redis-master  "
      ]
     },
     "execution_count": 135,
     "metadata": {},
     "output_type": "execute_result"
    }
   ],
   "source": [
    "vpa = pd.DataFrame(list(db['vpa'].find()))\n",
    "vpa['time'] = pd.to_datetime(vpa['time'],unit='s').round('1s')\n",
    "vpa.head()"
   ]
  },
  {
   "cell_type": "code",
   "execution_count": 136,
   "id": "97c7f1c4",
   "metadata": {},
   "outputs": [],
   "source": [
    "# convert cpu unit 'n' to 'm'\n",
    "def convert_cpu(x):\n",
    "    if x != 0:\n",
    "        if x[-1] == 'n':\n",
    "            return round(int(x[:-1])/1000000)\n",
    "        elif x[-1] == 'm':\n",
    "            return int(x[:-1])\n",
    "    else:\n",
    "        return 0\n",
    "    \n",
    "# convert memory unit 'k' and 'Ki' to 'Mi'\n",
    "# 1k = 1000/1024 Ki = 1000/1024**2 Mi\n",
    "def convert_mem(x):\n",
    "    if x != 0:\n",
    "        if x[-1] == 'k':\n",
    "            return round(int(x[:-1])*1000/1024**2)\n",
    "        elif x[-2:] == 'Ki':\n",
    "            return round(int(x[:-2])/1024)\n",
    "        elif x[-2:] == 'Mi':\n",
    "            return int(x[:-2])\n",
    "    else:\n",
    "        return 0"
   ]
  },
  {
   "cell_type": "code",
   "execution_count": 137,
   "id": "78dc2894",
   "metadata": {
    "scrolled": false
   },
   "outputs": [],
   "source": [
    "record = {}\n",
    "collist = ['usage', 'requests']\n",
    "for col in collist:\n",
    "    record[col] = pd.DataFrame(list(db[col].find()))\n",
    "    # convert timestamp to time\n",
    "    record[col]['time'] = pd.to_datetime(record[col]['time'],unit='s').round('1s')\n",
    "    record[col]['cpu'] = record[col]['cpu'].apply(lambda x: convert_cpu(x))\n",
    "    record[col]['cpu'] = record[col]['cpu'].fillna(0)\n",
    "    record[col]['memory'] = record[col]['memory'].apply(lambda x: convert_mem(x))"
   ]
  },
  {
   "cell_type": "code",
   "execution_count": 138,
   "id": "681214ba",
   "metadata": {},
   "outputs": [],
   "source": [
    "vpa['target_cpu'] = vpa['target_cpu'].apply(lambda x: convert_cpu(x))\n",
    "vpa['target_mem'] = vpa['target_mem'].apply(lambda x: convert_mem(x))\n",
    "vpa['lowerBound_cpu'] = vpa['lowerBound_cpu'].apply(lambda x: convert_cpu(x))\n",
    "vpa['lowerBound_mem'] = vpa['lowerBound_mem'].apply(lambda x: convert_mem(x))\n",
    "vpa['upperBound_cpu'] = vpa['upperBound_cpu'].apply(lambda x: convert_cpu(x))\n",
    "vpa['upperBound_mem'] = vpa['upperBound_mem'].apply(lambda x: convert_mem(x))"
   ]
  },
  {
   "cell_type": "code",
   "execution_count": 139,
   "id": "5cce29f8",
   "metadata": {
    "scrolled": true
   },
   "outputs": [
    {
     "data": {
      "text/html": [
       "<div>\n",
       "<style scoped>\n",
       "    .dataframe tbody tr th:only-of-type {\n",
       "        vertical-align: middle;\n",
       "    }\n",
       "\n",
       "    .dataframe tbody tr th {\n",
       "        vertical-align: top;\n",
       "    }\n",
       "\n",
       "    .dataframe thead th {\n",
       "        text-align: right;\n",
       "    }\n",
       "</style>\n",
       "<table border=\"1\" class=\"dataframe\">\n",
       "  <thead>\n",
       "    <tr style=\"text-align: right;\">\n",
       "      <th></th>\n",
       "      <th>_id</th>\n",
       "      <th>time</th>\n",
       "      <th>cpu</th>\n",
       "      <th>memory</th>\n",
       "      <th>pod_name</th>\n",
       "    </tr>\n",
       "  </thead>\n",
       "  <tbody>\n",
       "    <tr>\n",
       "      <th>0</th>\n",
       "      <td>60db293b66329c08b74e5105</td>\n",
       "      <td>2021-06-29 14:07:56</td>\n",
       "      <td>1.0</td>\n",
       "      <td>3.0</td>\n",
       "      <td>redis-master-0</td>\n",
       "    </tr>\n",
       "    <tr>\n",
       "      <th>3</th>\n",
       "      <td>60db293c66329c08b74e510c</td>\n",
       "      <td>2021-06-29 14:07:57</td>\n",
       "      <td>1.0</td>\n",
       "      <td>3.0</td>\n",
       "      <td>redis-master-0</td>\n",
       "    </tr>\n",
       "    <tr>\n",
       "      <th>6</th>\n",
       "      <td>60db293d66329c08b74e5113</td>\n",
       "      <td>2021-06-29 14:07:58</td>\n",
       "      <td>1.0</td>\n",
       "      <td>3.0</td>\n",
       "      <td>redis-master-0</td>\n",
       "    </tr>\n",
       "    <tr>\n",
       "      <th>9</th>\n",
       "      <td>60db293e66329c08b74e511a</td>\n",
       "      <td>2021-06-29 14:07:59</td>\n",
       "      <td>1.0</td>\n",
       "      <td>3.0</td>\n",
       "      <td>redis-master-0</td>\n",
       "    </tr>\n",
       "    <tr>\n",
       "      <th>12</th>\n",
       "      <td>60db294066329c08b74e5121</td>\n",
       "      <td>2021-06-29 14:08:00</td>\n",
       "      <td>1.0</td>\n",
       "      <td>3.0</td>\n",
       "      <td>redis-master-0</td>\n",
       "    </tr>\n",
       "  </tbody>\n",
       "</table>\n",
       "</div>"
      ],
      "text/plain": [
       "                         _id                time  cpu  memory        pod_name\n",
       "0   60db293b66329c08b74e5105 2021-06-29 14:07:56  1.0     3.0  redis-master-0\n",
       "3   60db293c66329c08b74e510c 2021-06-29 14:07:57  1.0     3.0  redis-master-0\n",
       "6   60db293d66329c08b74e5113 2021-06-29 14:07:58  1.0     3.0  redis-master-0\n",
       "9   60db293e66329c08b74e511a 2021-06-29 14:07:59  1.0     3.0  redis-master-0\n",
       "12  60db294066329c08b74e5121 2021-06-29 14:08:00  1.0     3.0  redis-master-0"
      ]
     },
     "execution_count": 139,
     "metadata": {},
     "output_type": "execute_result"
    }
   ],
   "source": [
    "request = record['requests']\n",
    "usage = record['usage']\n",
    "request = request[request['pod_name'] == 'redis-master-0']\n",
    "usage = usage[usage['pod_name'] == 'redis-master-0']\n",
    "usage.head()"
   ]
  },
  {
   "cell_type": "code",
   "execution_count": 140,
   "id": "94fae819",
   "metadata": {},
   "outputs": [
    {
     "data": {
      "image/png": "[encoded data removed]",
      "text/plain": [
       "<Figure size 936x576 with 1 Axes>"
      ]
     },
     "metadata": {
      "needs_background": "light"
     },
     "output_type": "display_data"
    }
   ],
   "source": [
    "fig, ax = plt.subplots(1,1,figsize=(13,8),sharex=True,sharey=True)\n",
    "ax.scatter(request.time, request.cpu,marker='.',label='request')\n",
    "ax.plot(usage.time, usage.cpu,label='usage',color='r')\n",
    "ax.plot(vpa.time, vpa.target_cpu,label='vpa-target',color='g')\n",
    "ax.legend()\n",
    "ax.set_ylabel('CPU(m)', fontsize=14)\n",
    "ax.set_xlabel('timeline', fontsize=14)\n",
    "ax.xaxis.set_major_formatter(mdates.DateFormatter('%H:%M:%S'))\n",
    "ax.xaxis.set_minor_locator(mdates.MinuteLocator())\n",
    "fig.autofmt_xdate() #rotate labels\n",
    "plt.show()"
   ]
  },
  {
   "cell_type": "code",
   "execution_count": null,
   "id": "0c6211ad",
   "metadata": {},
   "outputs": [],
   "source": []
  }
 ],
 "metadata": {
  "kernelspec": {
   "display_name": "Python 3",
   "language": "python",
   "name": "python3"
  },
  "language_info": {
   "codemirror_mode": {
    "name": "ipython",
    "version": 3
   },
   "file_extension": ".py",
   "mimetype": "text/x-python",
   "name": "python",
   "nbconvert_exporter": "python",
   "pygments_lexer": "ipython3",
   "version": "3.8.5"
  }
 },
 "nbformat": 4,
 "nbformat_minor": 5
}
