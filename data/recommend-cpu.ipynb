{
 "cells": [
  {
   "cell_type": "code",
   "execution_count": 1,
   "id": "39aff21d",
   "metadata": {},
   "outputs": [],
   "source": [
    "import pymongo\n",
    "import math\n",
    "import operator\n",
    "import numpy as np\n",
    "import pandas as pd\n",
    "import matplotlib.pyplot as plt\n",
    "from datetime import datetime\n",
    "import matplotlib.dates as mdates"
   ]
  },
  {
   "cell_type": "code",
   "execution_count": 2,
   "id": "3694b2c3",
   "metadata": {},
   "outputs": [],
   "source": [
    "mongoclient = pymongo.MongoClient(\"mongodb://localhost:27017/\")\n",
    "db = mongoclient['sma-5-3']"
   ]
  },
  {
   "cell_type": "code",
   "execution_count": 3,
   "id": "8a87bbc3",
   "metadata": {},
   "outputs": [
    {
     "data": {
      "text/plain": [
       "['vpa', 'requests', 'usage']"
      ]
     },
     "execution_count": 3,
     "metadata": {},
     "output_type": "execute_result"
    }
   ],
   "source": [
    "collist = db.list_collection_names()\n",
    "collist"
   ]
  },
  {
   "cell_type": "code",
   "execution_count": 4,
   "id": "948aed9b",
   "metadata": {},
   "outputs": [
    {
     "data": {
      "text/html": [
       "<div>\n",
       "<style scoped>\n",
       "    .dataframe tbody tr th:only-of-type {\n",
       "        vertical-align: middle;\n",
       "    }\n",
       "\n",
       "    .dataframe tbody tr th {\n",
       "        vertical-align: top;\n",
       "    }\n",
       "\n",
       "    .dataframe thead th {\n",
       "        text-align: right;\n",
       "    }\n",
       "</style>\n",
       "<table border=\"1\" class=\"dataframe\">\n",
       "  <thead>\n",
       "    <tr style=\"text-align: right;\">\n",
       "      <th></th>\n",
       "      <th>_id</th>\n",
       "      <th>time</th>\n",
       "      <th>target_cpu</th>\n",
       "      <th>target_mem</th>\n",
       "      <th>lowerBound_cpu</th>\n",
       "      <th>lowerBound_mem</th>\n",
       "      <th>upperBound_cpu</th>\n",
       "      <th>upperBound_mem</th>\n",
       "      <th>containerName</th>\n",
       "    </tr>\n",
       "  </thead>\n",
       "  <tbody>\n",
       "    <tr>\n",
       "      <th>0</th>\n",
       "      <td>60e368750b99e0147fcaf836</td>\n",
       "      <td>2021-07-05 20:15:49</td>\n",
       "      <td>25m</td>\n",
       "      <td>262144k</td>\n",
       "      <td>25m</td>\n",
       "      <td>262144k</td>\n",
       "      <td>25m</td>\n",
       "      <td>82811500k</td>\n",
       "      <td>redis-master</td>\n",
       "    </tr>\n",
       "    <tr>\n",
       "      <th>1</th>\n",
       "      <td>60e368760b99e0147fcaf83d</td>\n",
       "      <td>2021-07-05 20:15:50</td>\n",
       "      <td>25m</td>\n",
       "      <td>262144k</td>\n",
       "      <td>25m</td>\n",
       "      <td>262144k</td>\n",
       "      <td>25m</td>\n",
       "      <td>82811500k</td>\n",
       "      <td>redis-master</td>\n",
       "    </tr>\n",
       "    <tr>\n",
       "      <th>2</th>\n",
       "      <td>60e368770b99e0147fcaf844</td>\n",
       "      <td>2021-07-05 20:15:51</td>\n",
       "      <td>25m</td>\n",
       "      <td>262144k</td>\n",
       "      <td>25m</td>\n",
       "      <td>262144k</td>\n",
       "      <td>25m</td>\n",
       "      <td>82811500k</td>\n",
       "      <td>redis-master</td>\n",
       "    </tr>\n",
       "    <tr>\n",
       "      <th>3</th>\n",
       "      <td>60e368780b99e0147fcaf84b</td>\n",
       "      <td>2021-07-05 20:15:52</td>\n",
       "      <td>25m</td>\n",
       "      <td>262144k</td>\n",
       "      <td>25m</td>\n",
       "      <td>262144k</td>\n",
       "      <td>25m</td>\n",
       "      <td>82811500k</td>\n",
       "      <td>redis-master</td>\n",
       "    </tr>\n",
       "    <tr>\n",
       "      <th>4</th>\n",
       "      <td>60e368790b99e0147fcaf852</td>\n",
       "      <td>2021-07-05 20:15:53</td>\n",
       "      <td>25m</td>\n",
       "      <td>262144k</td>\n",
       "      <td>25m</td>\n",
       "      <td>262144k</td>\n",
       "      <td>25m</td>\n",
       "      <td>82811500k</td>\n",
       "      <td>redis-master</td>\n",
       "    </tr>\n",
       "  </tbody>\n",
       "</table>\n",
       "</div>"
      ],
      "text/plain": [
       "                        _id                time target_cpu target_mem  \\\n",
       "0  60e368750b99e0147fcaf836 2021-07-05 20:15:49        25m    262144k   \n",
       "1  60e368760b99e0147fcaf83d 2021-07-05 20:15:50        25m    262144k   \n",
       "2  60e368770b99e0147fcaf844 2021-07-05 20:15:51        25m    262144k   \n",
       "3  60e368780b99e0147fcaf84b 2021-07-05 20:15:52        25m    262144k   \n",
       "4  60e368790b99e0147fcaf852 2021-07-05 20:15:53        25m    262144k   \n",
       "\n",
       "  lowerBound_cpu lowerBound_mem upperBound_cpu upperBound_mem containerName  \n",
       "0            25m        262144k            25m      82811500k  redis-master  \n",
       "1            25m        262144k            25m      82811500k  redis-master  \n",
       "2            25m        262144k            25m      82811500k  redis-master  \n",
       "3            25m        262144k            25m      82811500k  redis-master  \n",
       "4            25m        262144k            25m      82811500k  redis-master  "
      ]
     },
     "execution_count": 4,
     "metadata": {},
     "output_type": "execute_result"
    }
   ],
   "source": [
    "vpa = pd.DataFrame(list(db['vpa'].find()))\n",
    "vpa['time'] = pd.to_datetime(vpa['time'],unit='s').round('1s')\n",
    "vpa.head()"
   ]
  },
  {
   "cell_type": "code",
   "execution_count": 5,
   "id": "97c7f1c4",
   "metadata": {},
   "outputs": [],
   "source": [
    "# convert cpu unit 'n' to 'm'\n",
    "def convert_cpu(x):\n",
    "    if x != 0:\n",
    "        if x[-1] == 'n':\n",
    "            return round(int(x[:-1])/1000000)\n",
    "        elif x[-1] == 'm':\n",
    "            return int(x[:-1])\n",
    "    else:\n",
    "        return 0\n",
    "    \n",
    "# convert memory unit 'k' and 'Ki' to 'Mi'\n",
    "# 1k = 1000/1024 Ki = 1000/1024**2 Mi\n",
    "def convert_mem(x):\n",
    "    if x != 0:\n",
    "        if x[-1] == 'k':\n",
    "            return round(int(x[:-1])*1000/1024**2)\n",
    "        elif x[-2:] == 'Ki':\n",
    "            return round(int(x[:-2])/1024)\n",
    "        elif x[-2:] == 'Mi':\n",
    "            return int(x[:-2])\n",
    "    else:\n",
    "        return 0"
   ]
  },
  {
   "cell_type": "code",
   "execution_count": 6,
   "id": "78dc2894",
   "metadata": {
    "scrolled": false
   },
   "outputs": [],
   "source": [
    "record = {}\n",
    "collist = ['usage', 'requests']\n",
    "for col in collist:\n",
    "    record[col] = pd.DataFrame(list(db[col].find()))\n",
    "    # convert timestamp to time\n",
    "    record[col]['time'] = pd.to_datetime(record[col]['time'],unit='s').round('1s')\n",
    "    record[col]['cpu'] = record[col]['cpu'].apply(lambda x: convert_cpu(x))\n",
    "    record[col]['cpu'] = record[col]['cpu'].fillna(0)\n",
    "    record[col]['memory'] = record[col]['memory'].apply(lambda x: convert_mem(x))"
   ]
  },
  {
   "cell_type": "code",
   "execution_count": 7,
   "id": "681214ba",
   "metadata": {},
   "outputs": [],
   "source": [
    "vpa['target_cpu'] = vpa['target_cpu'].apply(lambda x: convert_cpu(x))\n",
    "vpa['target_mem'] = vpa['target_mem'].apply(lambda x: convert_mem(x))\n",
    "vpa['lowerBound_cpu'] = vpa['lowerBound_cpu'].apply(lambda x: convert_cpu(x))\n",
    "vpa['lowerBound_mem'] = vpa['lowerBound_mem'].apply(lambda x: convert_mem(x))\n",
    "vpa['upperBound_cpu'] = vpa['upperBound_cpu'].apply(lambda x: convert_cpu(x))\n",
    "vpa['upperBound_mem'] = vpa['upperBound_mem'].apply(lambda x: convert_mem(x))"
   ]
  },
  {
   "cell_type": "code",
   "execution_count": 8,
   "id": "5cce29f8",
   "metadata": {
    "scrolled": true
   },
   "outputs": [
    {
     "data": {
      "text/html": [
       "<div>\n",
       "<style scoped>\n",
       "    .dataframe tbody tr th:only-of-type {\n",
       "        vertical-align: middle;\n",
       "    }\n",
       "\n",
       "    .dataframe tbody tr th {\n",
       "        vertical-align: top;\n",
       "    }\n",
       "\n",
       "    .dataframe thead th {\n",
       "        text-align: right;\n",
       "    }\n",
       "</style>\n",
       "<table border=\"1\" class=\"dataframe\">\n",
       "  <thead>\n",
       "    <tr style=\"text-align: right;\">\n",
       "      <th></th>\n",
       "      <th>_id</th>\n",
       "      <th>time</th>\n",
       "      <th>cpu</th>\n",
       "      <th>memory</th>\n",
       "      <th>pod_name</th>\n",
       "    </tr>\n",
       "  </thead>\n",
       "  <tbody>\n",
       "    <tr>\n",
       "      <th>0</th>\n",
       "      <td>60e368750b99e0147fcaf830</td>\n",
       "      <td>2021-07-05 20:15:49</td>\n",
       "      <td>0.0</td>\n",
       "      <td>3</td>\n",
       "      <td>redis-master-0</td>\n",
       "    </tr>\n",
       "    <tr>\n",
       "      <th>3</th>\n",
       "      <td>60e368760b99e0147fcaf837</td>\n",
       "      <td>2021-07-05 20:15:50</td>\n",
       "      <td>0.0</td>\n",
       "      <td>3</td>\n",
       "      <td>redis-master-0</td>\n",
       "    </tr>\n",
       "    <tr>\n",
       "      <th>6</th>\n",
       "      <td>60e368770b99e0147fcaf83e</td>\n",
       "      <td>2021-07-05 20:15:51</td>\n",
       "      <td>0.0</td>\n",
       "      <td>3</td>\n",
       "      <td>redis-master-0</td>\n",
       "    </tr>\n",
       "    <tr>\n",
       "      <th>9</th>\n",
       "      <td>60e368780b99e0147fcaf845</td>\n",
       "      <td>2021-07-05 20:15:52</td>\n",
       "      <td>0.0</td>\n",
       "      <td>3</td>\n",
       "      <td>redis-master-0</td>\n",
       "    </tr>\n",
       "    <tr>\n",
       "      <th>12</th>\n",
       "      <td>60e368790b99e0147fcaf84c</td>\n",
       "      <td>2021-07-05 20:15:53</td>\n",
       "      <td>0.0</td>\n",
       "      <td>3</td>\n",
       "      <td>redis-master-0</td>\n",
       "    </tr>\n",
       "  </tbody>\n",
       "</table>\n",
       "</div>"
      ],
      "text/plain": [
       "                         _id                time  cpu  memory        pod_name\n",
       "0   60e368750b99e0147fcaf830 2021-07-05 20:15:49  0.0       3  redis-master-0\n",
       "3   60e368760b99e0147fcaf837 2021-07-05 20:15:50  0.0       3  redis-master-0\n",
       "6   60e368770b99e0147fcaf83e 2021-07-05 20:15:51  0.0       3  redis-master-0\n",
       "9   60e368780b99e0147fcaf845 2021-07-05 20:15:52  0.0       3  redis-master-0\n",
       "12  60e368790b99e0147fcaf84c 2021-07-05 20:15:53  0.0       3  redis-master-0"
      ]
     },
     "execution_count": 8,
     "metadata": {},
     "output_type": "execute_result"
    }
   ],
   "source": [
    "request = record['requests']\n",
    "usage = record['usage']\n",
    "request = request[request['pod_name'] == 'redis-master-0']\n",
    "usage = usage[usage['pod_name'] == 'redis-master-0']\n",
    "usage.head()"
   ]
  },
  {
   "cell_type": "code",
   "execution_count": 9,
   "id": "94fae819",
   "metadata": {},
   "outputs": [
    {
     "data": {
      "image/png": "[encoded data removed]",
      "text/plain": [
       "<Figure size 936x576 with 1 Axes>"
      ]
     },
     "metadata": {
      "needs_background": "light"
     },
     "output_type": "display_data"
    }
   ],
   "source": [
    "fig, ax = plt.subplots(1,1,figsize=(13,8),sharex=True,sharey=True)\n",
    "# ax.scatter(request.time, request.cpu,marker='.',label='request')\n",
    "ax.plot(usage.time, usage.cpu,label='usage',color='r')\n",
    "ax.plot(vpa.time, vpa.target_cpu,label='vpa-target',color='b')\n",
    "ax.legend()\n",
    "ax.set_ylabel('CPU(m)', fontsize=14)\n",
    "ax.set_xlabel('timeline', fontsize=14)\n",
    "ax.xaxis.set_major_formatter(mdates.DateFormatter('%H:%M:%S'))\n",
    "ax.xaxis.set_minor_locator(mdates.MinuteLocator())\n",
    "fig.autofmt_xdate() #rotate labels\n",
    "plt.show()"
   ]
  },
  {
   "cell_type": "code",
   "execution_count": 10,
   "id": "fbcb4ed6",
   "metadata": {},
   "outputs": [],
   "source": [
    "def evaluate(usage, prediction):\n",
    "    slack = list(map(operator.sub, prediction, usage))\n",
    "    slack_total = 0\n",
    "    insufficient_count = 0\n",
    "    insufficient_total = 0\n",
    "    for i in slack:\n",
    "        if i < 0:\n",
    "            insufficient_count += 1\n",
    "            insufficient_total += abs(i)\n",
    "        else:\n",
    "            slack_total += i\n",
    "    return slack_total/len(usage), insufficient_count/len(usage)*100, insufficient_total/len(usage)"
   ]
  },
  {
   "cell_type": "code",
   "execution_count": 11,
   "id": "544ad6af",
   "metadata": {},
   "outputs": [
    {
     "name": "stdout",
     "output_type": "stream",
     "text": [
      "\tAvg. slack(m)\t Insufficient CPU(%)\t Avg. insufficient CPU(m)\n",
      "sma-5-3: 98.35777777777778 39.88888888888889 93.14666666666666\n"
     ]
    }
   ],
   "source": [
    "sma = []\n",
    "sma = evaluate(usage.cpu, vpa.target_cpu)\n",
    "print(\"\\tAvg. slack(m)\\t Insufficient CPU(%)\\t Avg. insufficient CPU(m)\")\n",
    "print(\"sma-5-3:\", sma[0], sma[1], sma[2])"
   ]
  }
 ],
 "metadata": {
  "kernelspec": {
   "display_name": "Python 3",
   "language": "python",
   "name": "python3"
  },
  "language_info": {
   "codemirror_mode": {
    "name": "ipython",
    "version": 3
   },
   "file_extension": ".py",
   "mimetype": "text/x-python",
   "name": "python",
   "nbconvert_exporter": "python",
   "pygments_lexer": "ipython3",
   "version": "3.8.10"
  }
 },
 "nbformat": 4,
 "nbformat_minor": 5
}
